{
  "nbformat": 4,
  "nbformat_minor": 0,
  "metadata": {
    "colab": {
      "provenance": [],
      "authorship_tag": "ABX9TyPi0B42H0noXrZD8PB4dEbt",
      "include_colab_link": true
    },
    "kernelspec": {
      "name": "python3",
      "display_name": "Python 3"
    },
    "language_info": {
      "name": "python"
    }
  },
  "cells": [
    {
      "cell_type": "markdown",
      "metadata": {
        "id": "view-in-github",
        "colab_type": "text"
      },
      "source": [
        "<a href=\"https://colab.research.google.com/github/iam-rushi47/pw-study/blob/pw-study/file_Handling.ipynb\" target=\"_parent\"><img src=\"https://colab.research.google.com/assets/colab-badge.svg\" alt=\"Open In Colab\"/></a>"
      ]
    },
    {
      "cell_type": "markdown",
      "source": [
        "1. What is the difference between interpreted and compiled languages\n",
        " --\n",
        "  Difference between Interpreted and Compiled Languages:-\n",
        "  - Interpreted Languages execute code line-by-line at runtime (e.g., Python).\n",
        "\n",
        "  - Compiled Languages convert code to machine language before execution (e.g., C++).\n",
        "\n",
        "  - Interpreted languages are slower but flexible; compiled are faster but rigid.\n",
        "\n",
        "\n",
        "2. What is exception handling in Python\n",
        " --\n",
        "  - Exception handling is mechanism to handle runtime errors.\n",
        "\n",
        "  -  It Uses try, except, finally, and else blocks.\n",
        "\n",
        "  -  program from crashing due to unexpected errors.\n",
        "\n",
        "\n",
        "3. What is the purpose of the finally block in exception handling0\n",
        " --\n",
        "   - The finally block executes always, regardless of whether an exception occurred or not.\n",
        "\n",
        "   - Commonly used for cleanup actions (e.g., closing files, releasing resources).\n",
        "\n",
        "4. What is logging in Python\n",
        " --\n",
        "  -  Logging is used to record events that happen during a program’s execution.\n",
        "\n",
        "   - ItHelps with debugging, auditing, and tracking issues.\n",
        "\n",
        "  - Python has a built-in logging module.\n",
        "\n",
        "\n",
        "5. What is the significance of the __del__ method in Python\n",
        " --  \n",
        "   - The __del__ method is called when an object is about to be destroyed.\n",
        "\n",
        "   - ItUsed to perform cleanup operations like closing files or releasing resources.\n",
        "\n",
        "   - ItActs like a destructor in Python.\n",
        "  \n",
        "6. What is the difference between import and from ... import in Python\n",
        " --\n",
        "  -      \n",
        "    import module\n",
        "  - imports the whole module;\n",
        "   usage: module.function().\n",
        "\n",
        "    from module import function\n",
        "       imports specific parts;\n",
        "  usage: function() directly.\n",
        "\n",
        "from allows for more concise code but may cause name conflicts.\n",
        "  \n",
        "\n",
        "7. How can you handle multiple exceptions in Python\n",
        " --\n",
        "- Use multiple except blocks for different exceptions:\n",
        "\n",
        "\n",
        "    try:\n",
        "    ...\n",
        "    except ValueError:\n",
        "    ...\n",
        "    except TypeError:\n",
        "    ...\n",
        "  - Or use a tuple of exceptions:\n",
        "\n",
        "\n",
        "    except (ValueError, TypeError):\n",
        "    ...\n",
        "\n",
        "8. What is the purpose of the with statement when handling files in Python?\n",
        " --\n",
        "  - The *with* statement ensures proper resource management.\n",
        "\n",
        " - It Automatically closes the file after the block is executed, even if an exception occurs.\n",
        "\n",
        "\n",
        "    with open('file.txt') as f:\n",
        "    data = f.read()\n",
        "\n",
        "\n",
        "9. What is the difference between multithreading and multiprocessing?\n",
        " --\n",
        "- Multithreading:\n",
        "\n",
        "  - Multiple threads in a single process;\n",
        " - good for I/O-bound tasks.\n",
        "\n",
        "- Multiprocessing:\n",
        "\n",
        "  - Multiple processes with separate memory;\n",
        "  - ideal for CPU-bound tasks.\n",
        "\n",
        "- Multiprocessing avoids GIL limitations in Python.\n",
        "\n",
        "10. What are the advantages of using logging in a program\n",
        " --\n",
        "  - Tracks program flow and detects errors.\n",
        "\n",
        " - Allows for different severity levels (INFO, DEBUG, ERROR, etc.).\n",
        "\n",
        " - Output can be directed to files, consoles, or remote servers.\n",
        "\n",
        " - Useful for maintenance and debugging in production environments.\n",
        "\n",
        "11. What is memory management in Python?\n",
        " --\n",
        "  - Managed using reference counting and garbage collection.\n",
        "\n",
        " - Python automatically allocates and frees memory.\n",
        "\n",
        " - Modules like gc help manage memory manually if needed.\n",
        "\n",
        "\n",
        "12. What are the basic steps involved in exception handling in Python\n",
        " --\n",
        "  - Try: Wrap code that may cause an error.\n",
        "\n",
        "  - Except: Handle the exception.\n",
        "\n",
        "  - Else (optional): Runs if no error occurs.\n",
        "\n",
        "  - Finally: Always runs to clean up resources.\n",
        "\n",
        "13. Why is memory management important in Python?\n",
        " --  \n",
        "  - It Ensures efficient use of memory resources.\n",
        "\n",
        "   - Prevents memory leaks and application crashes.\n",
        "\n",
        " - Helps optimize performance and scalability of Python applications.\n",
        "\n",
        "14.  What is the role of try and except in exception handling?\n",
        " --\n",
        " - try: Contains code that may raise an exception.\n",
        "\n",
        " - except: Catches and handles the exception gracefully.\n",
        "\n",
        " - BothPrevents abrupt program termination due to errors.\n",
        "\n",
        "15.  How does Python's garbage collection system work?\n",
        " --\n",
        "  -  ITUses reference counting as the primary mechanism.\n",
        "\n",
        " - When reference count drops to zero, the object is deleted.\n",
        "\n",
        " - Also includes a cyclic garbage collector to detect and clean up reference cycles.\n",
        "\n",
        "\n",
        "16. What is the purpose of the else block in exception handling?\n",
        " --\n",
        "  - Executes if the try block does not raise an exception.\n",
        "\n",
        " - Used to place code that should run only when no error occurs.\n",
        "\n",
        " - Helps separate error handling from normal logic.\n",
        "\n",
        "17. What are the common logging levels in Python?\n",
        " --\n",
        " DEBUG – Detailed information for diagnosing problems.\n",
        "\n",
        " INFO – Confirmation that things are working as expected.\n",
        "\n",
        " WARNING – Something unexpected happened, but program continues.\n",
        "\n",
        " ERROR – A serious problem; program still runs.\n",
        "\n",
        " CRITICAL – Severe error; may stop the program.\n",
        "\n",
        "\n",
        "18.  What is the difference between os.fork() and multiprocessing in Python?\n",
        " --\n",
        "  - os.fork() :-creates a child process by duplicating the current process (Unix only).\n",
        "\n",
        " - multiprocessing :- a cross-platform module providing API for process-based parallelism.\n",
        "\n",
        " - multiprocessing is safer and more portable than os.fork().\n",
        "\n",
        "19. What is the importance of closing a file in Python?\n",
        " --\n",
        " - It Releases system resources associated with the file.\n",
        "\n",
        " - It Ensures data is saved properly and not lost (buffer flushed).\n",
        "\n",
        " - It  Prevents file corruption and file locking issues.\n",
        "\n",
        "\n",
        "20.  What is the difference between file.read() and file.readline() in Python?\n",
        " --\n",
        "   - file.read(): Reads the entire file as a single string.\n",
        "\n",
        " - file.readline(): Reads one line from the file at a time.\n",
        "\n",
        " - Use read() for small files,\n",
        "  - readline() for memory-efficient line-by-line reading.\n",
        "\n",
        "21. What is the logging Module in Python Used For\n",
        "Used to record messages from applications.\n",
        " --\n",
        "\n",
        " - Helps with debugging, monitoring, and auditing.\n",
        "\n",
        " - Allows for configurable output, including log levels and destinations.\n",
        "\n",
        "22. What is the os Module in Python Used for in File Handling\n",
        " --\n",
        "\n",
        " - Provides functions for interacting with the operating system.\n",
        "\n",
        " - Used for file operations like creating, removing, renaming directories, etc.\n",
        "\n",
        " - Also used for checking file paths, permissions, and navigating the file system.\n",
        "\n",
        "23. Challenges Associated with Memory Management in Python\n",
        " --\n",
        "\n",
        " - Reference cycles not handled by reference counting alone.\n",
        "\n",
        " - Global Interpreter Lock (GIL) limits true parallelism in multithreading.\n",
        "\n",
        " - High memory usage due to object overhead and dynamic typing.\n",
        "\n",
        "24. How to Raise an Exception Manually in Python\n",
        "Use the raise keyword:\n",
        " --\n",
        "  \n",
        "    \n",
        "    python\n",
        "\n",
        "   \n",
        "    raise ValueError(\"Invalid input!\")\n",
        "    Helps in custom error handling based on application logic.\n",
        "\n",
        "25. Why Is It Important to Use Multithreading in Certain Applications\n",
        " --\n",
        "\n",
        " - Enables concurrent execution in I/O-bound tasks.\n",
        "\n",
        " - Improves responsiveness and performance in GUIs or network apps.\n",
        "\n",
        " - Efficient use of resources without blocking the main thread.\n",
        "\n",
        "\n",
        "\n",
        "\n",
        "\n",
        "\n",
        "\n",
        "\n",
        "\n",
        "\n",
        "\n",
        "\n",
        "\n",
        "\n",
        "\n",
        "\n"
      ],
      "metadata": {
        "id": "dh6EMvKlOerL"
      }
    },
    {
      "cell_type": "code",
      "source": [
        "# How can you open a file for writing in Python and write a string to it?\n",
        "\n",
        "with open(\"example.txt\", \"w\") as file:\n",
        "    file.write(\"Hello, World!\")\n",
        "\n",
        "\n",
        "\n",
        "\n",
        "\n",
        "\n",
        "\n",
        "\n",
        "\n",
        "\n",
        "\n",
        "\n",
        "\n",
        "\n",
        "\n",
        "\n",
        "\n",
        "\n",
        "\n",
        "\n"
      ],
      "metadata": {
        "id": "-T8yU6STpTMJ"
      },
      "execution_count": null,
      "outputs": []
    },
    {
      "cell_type": "code",
      "source": [
        "# Write a Python program to read the contents of a file and print each line.\n",
        "\n",
        "with open(\"example.txt\", \"r\") as file:\n",
        "    for line in file:\n",
        "        print(line.strip())\n",
        "\n",
        "\n",
        "4. Write a Python script that reads from one file and writes its content to another file.\n",
        "python\n",
        "Copy\n",
        "Edit\n",
        "with open(\"source.txt\", \"r\") as src, open(\"destination.txt\", \"w\") as dest:\n",
        "    dest.write(src.read())\n",
        "5. How would you catch and handle division by zero error in Python?\n",
        "python\n",
        "Copy\n",
        "Edit\n",
        "try:\n",
        "    result = 10 / 0\n",
        "except ZeroDivisionError:\n",
        "    print(\"Cannot divide by zero.\")\n",
        "6. Write a Python program that logs an error message to a log file when a division by zero exception occurs.\n",
        "python\n",
        "Copy\n",
        "Edit\n",
        "import logging\n",
        "\n",
        "logging.basicConfig(filename='error.log', level=logging.ERROR)\n",
        "\n",
        "try:\n",
        "    x = 5 / 0\n",
        "except ZeroDivisionError as e:\n",
        "    logging.error(\"Division by zero error occurred: %s\", e)\n",
        "7. How do you log information at different levels (INFO, ERROR, WARNING) in Python using the logging module?\n",
        "python\n",
        "Copy\n",
        "Edit\n",
        "import logging\n",
        "\n",
        "logging.basicConfig(level=logging.DEBUG)\n",
        "\n",
        "logging.info(\"This is an info message\")\n",
        "logging.warning(\"This is a warning\")\n",
        "logging.error(\"This is an error\")\n",
        "8. Write a program to handle a file opening error using exception handling.\n",
        "python\n",
        "Copy\n",
        "Edit\n",
        "try:\n",
        "    with open(\"data.txt\", \"r\") as file:\n",
        "        print(file.read())\n",
        "except IOError:\n",
        "    print(\"Error opening the file.\")\n",
        "9. How can you read a file line by line and store its content in a list in Python?\n",
        "python\n",
        "Copy\n",
        "Edit\n",
        "with open(\"example.txt\", \"r\") as file:\n",
        "    lines = file.readlines()\n",
        "10. How can you append data to an existing file in Python?\n",
        "python\n",
        "Copy\n",
        "Edit\n",
        "with open(\"example.txt\", \"a\") as file:\n",
        "    file.write(\"Appended line.\\n\")\n",
        "11. Write a Python program that uses a try-except block to handle an error when attempting to access a dictionary key that doesn't exist.\n",
        "python\n",
        "Copy\n",
        "Edit\n",
        "my_dict = {\"name\": \"Alice\"}\n",
        "\n",
        "try:\n",
        "    print(my_dict[\"age\"])\n",
        "except KeyError:\n",
        "    print(\"Key does not exist.\")\n",
        "12. Write a program that demonstrates using multiple except blocks to handle different types of exceptions.\n",
        "python\n",
        "Copy\n",
        "Edit\n",
        "try:\n",
        "    x = int(\"abc\")\n",
        "    y = 10 / 0\n",
        "except ValueError:\n",
        "    print(\"Value error occurred.\")\n",
        "except ZeroDivisionError:\n",
        "    print(\"Cannot divide by zero.\")\n",
        "13. How would you check if a file exists before attempting to read it in Python?\n",
        "python\n",
        "Copy\n",
        "Edit\n",
        "import os\n",
        "\n",
        "if os.path.exists(\"example.txt\"):\n",
        "    with open(\"example.txt\", \"r\") as file:\n",
        "        print(file.read())\n",
        "else:\n",
        "    print(\"File does not exist.\")\n",
        "14. Write a program that uses the logging module to log both informational and error messages.\n",
        "python\n",
        "Copy\n",
        "Edit\n",
        "import logging\n",
        "\n",
        "logging.basicConfig(filename='app.log', level=logging.DEBUG)\n",
        "logging.info(\"Program started.\")\n",
        "try:\n",
        "    x = 5 / 0\n",
        "except ZeroDivisionError:\n",
        "    logging.error(\"Division by zero.\")\n",
        "15. Write a Python program that prints the content of a file and handles the case when the file is empty.\n",
        "python\n",
        "Copy\n",
        "Edit\n",
        "with open(\"example.txt\", \"r\") as file:\n",
        "    content = file.read()\n",
        "    if not content:\n",
        "        print(\"File is empty.\")\n",
        "    else:\n",
        "        print(content)\n",
        "16. Demonstrate how to use memory profiling to check the memory usage of a small program.\n",
        "python\n",
        "Copy\n",
        "Edit\n",
        "# Install memory-profiler using pip install memory-profiler\n",
        "from memory_profiler import profile\n",
        "\n",
        "@profile\n",
        "def my_function():\n",
        "    a = [i for i in range(10000)]\n",
        "\n",
        "my_function()\n",
        "17. Write a Python program to create and write a list of numbers to a file, one number per line.\n",
        "python\n",
        "Copy\n",
        "Edit\n",
        "numbers = [1, 2, 3, 4, 5]\n",
        "with open(\"numbers.txt\", \"w\") as file:\n",
        "    for number in numbers:\n",
        "        file.write(f\"{number}\\n\")\n",
        "18. How would you implement a basic logging setup that logs to a file with rotation after 1MB?\n",
        "python\n",
        "Copy\n",
        "Edit\n",
        "import logging\n",
        "from logging.handlers import RotatingFileHandler\n",
        "\n",
        "handler = RotatingFileHandler(\"rotating.log\", maxBytes=1024*1024, backupCount=3)\n",
        "logging.basicConfig(handlers=[handler], level=logging.INFO)\n",
        "logging.info(\"Rotating log example.\")\n",
        "19. Write a program that handles both IndexError and KeyError using a try-except block.\n",
        "python\n",
        "Copy\n",
        "Edit\n",
        "data = [1, 2, 3]\n",
        "dict_data = {\"a\": 1}\n",
        "\n",
        "try:\n",
        "    print(data[5])\n",
        "    print(dict_data[\"b\"])\n",
        "except IndexError:\n",
        "    print(\"List index out of range.\")\n",
        "except KeyError:\n",
        "    print(\"Dictionary key not found.\")\n",
        "20. How would you open a file and read its contents using a context manager in Python?\n",
        "python\n",
        "Copy\n",
        "Edit\n",
        "with open(\"example.txt\", \"r\") as file:\n",
        "    content = file.read()\n",
        "    print(content)\n",
        "21. Write a Python program that reads a file and prints the number of occurrences of a specific word.\n",
        "python\n",
        "Copy\n",
        "Edit\n",
        "word = \"Python\"\n",
        "count = 0\n",
        "\n",
        "with open(\"example.txt\", \"r\") as file:\n",
        "    for line in file:\n",
        "        count += line.count(word)\n",
        "\n",
        "print(f\"The word '{word}' occurred {count} times.\")\n",
        "22. How can you check if a file is empty before attempting to read its contents?\n",
        "python\n",
        "Copy\n",
        "Edit\n",
        "import os\n",
        "\n",
        "if os.stat(\"example.txt\").st_size == 0:\n",
        "    print(\"File is empty.\")\n",
        "else:\n",
        "    with open(\"example.txt\", \"r\") as file:\n",
        "        print(file.read())\n",
        "23. Write a Python program that writes to a log file when an error occurs during file handling.\n",
        "python\n",
        "Copy\n",
        "Edit\n",
        "import logging\n",
        "\n",
        "logging.basicConfig(filename=\"file_error.log\", level=logging.ERROR)\n",
        "\n",
        "try:\n",
        "    with open(\"missing.txt\", \"r\") as file:\n",
        "        data = file.read()\n",
        "except FileNotFoundError as e:\n",
        "    logging.error(\"File handling error: %s\", e)'''\n"
      ],
      "metadata": {
        "id": "anq5Gt1lNd4h",
        "colab": {
          "base_uri": "https://localhost:8080/",
          "height": 209
        },
        "outputId": "c75a53b7-11a1-4562-e738-6b2e7b6fbd90"
      },
      "execution_count": null,
      "outputs": [
        {
          "output_type": "stream",
          "name": "stdout",
          "text": [
            "Hello, World!\n"
          ]
        },
        {
          "output_type": "execute_result",
          "data": {
            "text/plain": [
              "' How would you handle a case where the file doesn\\'t exist while trying to open it for reading?\\npython\\nCopy\\nEdit\\ntry:\\n    with open(\"nonexistent.txt\", \"r\") as file:\\n        content = file.read()\\nexcept FileNotFoundError:\\n    print(\"File not found.\")\\n4. Write a Python script that reads from one file and writes its content to another file.\\npython\\nCopy\\nEdit\\nwith open(\"source.txt\", \"r\") as src, open(\"destination.txt\", \"w\") as dest:\\n    dest.write(src.read())\\n5. How would you catch and handle division by zero error in Python?\\npython\\nCopy\\nEdit\\ntry:\\n    result = 10 / 0\\nexcept ZeroDivisionError:\\n    print(\"Cannot divide by zero.\")\\n6. Write a Python program that logs an error message to a log file when a division by zero exception occurs.\\npython\\nCopy\\nEdit\\nimport logging\\n\\nlogging.basicConfig(filename=\\'error.log\\', level=logging.ERROR)\\n\\ntry:\\n    x = 5 / 0\\nexcept ZeroDivisionError as e:\\n    logging.error(\"Division by zero error occurred: %s\", e)\\n7. How do you log information at different levels (INFO, ERROR, WARNING) in Python using the logging module?\\npython\\nCopy\\nEdit\\nimport logging\\n\\nlogging.basicConfig(level=logging.DEBUG)\\n\\nlogging.info(\"This is an info message\")\\nlogging.warning(\"This is a warning\")\\nlogging.error(\"This is an error\")\\n8. Write a program to handle a file opening error using exception handling.\\npython\\nCopy\\nEdit\\ntry:\\n    with open(\"data.txt\", \"r\") as file:\\n        print(file.read())\\nexcept IOError:\\n    print(\"Error opening the file.\")\\n9. How can you read a file line by line and store its content in a list in Python?\\npython\\nCopy\\nEdit\\nwith open(\"example.txt\", \"r\") as file:\\n    lines = file.readlines()\\n10. How can you append data to an existing file in Python?\\npython\\nCopy\\nEdit\\nwith open(\"example.txt\", \"a\") as file:\\n    file.write(\"Appended line.\\n\")\\n11. Write a Python program that uses a try-except block to handle an error when attempting to access a dictionary key that doesn\\'t exist.\\npython\\nCopy\\nEdit\\nmy_dict = {\"name\": \"Alice\"}\\n\\ntry:\\n    print(my_dict[\"age\"])\\nexcept KeyError:\\n    print(\"Key does not exist.\")\\n12. Write a program that demonstrates using multiple except blocks to handle different types of exceptions.\\npython\\nCopy\\nEdit\\ntry:\\n    x = int(\"abc\")\\n    y = 10 / 0\\nexcept ValueError:\\n    print(\"Value error occurred.\")\\nexcept ZeroDivisionError:\\n    print(\"Cannot divide by zero.\")\\n13. How would you check if a file exists before attempting to read it in Python?\\npython\\nCopy\\nEdit\\nimport os\\n\\nif os.path.exists(\"example.txt\"):\\n    with open(\"example.txt\", \"r\") as file:\\n        print(file.read())\\nelse:\\n    print(\"File does not exist.\")\\n14. Write a program that uses the logging module to log both informational and error messages.\\npython\\nCopy\\nEdit\\nimport logging\\n\\nlogging.basicConfig(filename=\\'app.log\\', level=logging.DEBUG)\\nlogging.info(\"Program started.\")\\ntry:\\n    x = 5 / 0\\nexcept ZeroDivisionError:\\n    logging.error(\"Division by zero.\")\\n15. Write a Python program that prints the content of a file and handles the case when the file is empty.\\npython\\nCopy\\nEdit\\nwith open(\"example.txt\", \"r\") as file:\\n    content = file.read()\\n    if not content:\\n        print(\"File is empty.\")\\n    else:\\n        print(content)\\n16. Demonstrate how to use memory profiling to check the memory usage of a small program.\\npython\\nCopy\\nEdit\\n# Install memory-profiler using pip install memory-profiler\\nfrom memory_profiler import profile\\n\\n@profile\\ndef my_function():\\n    a = [i for i in range(10000)]\\n\\nmy_function()\\n17. Write a Python program to create and write a list of numbers to a file, one number per line.\\npython\\nCopy\\nEdit\\nnumbers = [1, 2, 3, 4, 5]\\nwith open(\"numbers.txt\", \"w\") as file:\\n    for number in numbers:\\n        file.write(f\"{number}\\n\")\\n18. How would you implement a basic logging setup that logs to a file with rotation after 1MB?\\npython\\nCopy\\nEdit\\nimport logging\\nfrom logging.handlers import RotatingFileHandler\\n\\nhandler = RotatingFileHandler(\"rotating.log\", maxBytes=1024*1024, backupCount=3)\\nlogging.basicConfig(handlers=[handler], level=logging.INFO)\\nlogging.info(\"Rotating log example.\")\\n19. Write a program that handles both IndexError and KeyError using a try-except block.\\npython\\nCopy\\nEdit\\ndata = [1, 2, 3]\\ndict_data = {\"a\": 1}\\n\\ntry:\\n    print(data[5])\\n    print(dict_data[\"b\"])\\nexcept IndexError:\\n    print(\"List index out of range.\")\\nexcept KeyError:\\n    print(\"Dictionary key not found.\")\\n20. How would you open a file and read its contents using a context manager in Python?\\npython\\nCopy\\nEdit\\nwith open(\"example.txt\", \"r\") as file:\\n    content = file.read()\\n    print(content)\\n21. Write a Python program that reads a file and prints the number of occurrences of a specific word.\\npython\\nCopy\\nEdit\\nword = \"Python\"\\ncount = 0\\n\\nwith open(\"example.txt\", \"r\") as file:\\n    for line in file:\\n        count += line.count(word)\\n\\nprint(f\"The word \\'{word}\\' occurred {count} times.\")\\n22. How can you check if a file is empty before attempting to read its contents?\\npython\\nCopy\\nEdit\\nimport os\\n\\nif os.stat(\"example.txt\").st_size == 0:\\n    print(\"File is empty.\")\\nelse:\\n    with open(\"example.txt\", \"r\") as file:\\n        print(file.read())\\n23. Write a Python program that writes to a log file when an error occurs during file handling.\\npython\\nCopy\\nEdit\\nimport logging\\n\\nlogging.basicConfig(filename=\"file_error.log\", level=logging.ERROR)\\n\\ntry:\\n    with open(\"missing.txt\", \"r\") as file:\\n        data = file.read()\\nexcept FileNotFoundError as e:\\n    logging.error(\"File handling error: %s\", e)'"
            ],
            "application/vnd.google.colaboratory.intrinsic+json": {
              "type": "string"
            }
          },
          "metadata": {},
          "execution_count": 6
        }
      ]
    },
    {
      "cell_type": "code",
      "source": [
        "# 3How would you handle a case where the file doesn't exist while trying to open it for reading?\n",
        "\n",
        "try:\n",
        "    with open(\"nonexistent.txt\", \"r\") as file:\n",
        "        content = file.read()\n",
        "except FileNotFoundError:\n",
        "    print(\"File not found.\")"
      ],
      "metadata": {
        "colab": {
          "base_uri": "https://localhost:8080/"
        },
        "id": "ZDasV8RhuZV8",
        "outputId": "53119b90-f9bb-4a18-dea5-bbbf8dee3808"
      },
      "execution_count": null,
      "outputs": [
        {
          "output_type": "stream",
          "name": "stdout",
          "text": [
            "File not found.\n"
          ]
        }
      ]
    },
    {
      "cell_type": "code",
      "source": [
        " # 4. Write a Python script that reads from one file and writes its content to another file.\n",
        "import os\n",
        "\n",
        "source_file = \"source.txt\"\n",
        "destination_file = \"destination.txt\"\n",
        "\n",
        "if os.path.exists(source_file):\n",
        "    with open(source_file, \"r\") as src, open(destination_file, \"w\") as dest:\n",
        "        dest.write(src.read())\n",
        "    print(f\"Contents copied from {source_file} to {destination_file}.\")\n",
        "else:\n",
        "    print(f\"Source file '{source_file}' does not exist.\")"
      ],
      "metadata": {
        "colab": {
          "base_uri": "https://localhost:8080/",
          "height": 209
        },
        "id": "C82THcIquzlt",
        "outputId": "05c2ab37-91f5-42f9-dc05-da9630a13594"
      },
      "execution_count": null,
      "outputs": [
        {
          "output_type": "stream",
          "name": "stdout",
          "text": [
            "Source file 'source.txt' does not exist.\n"
          ]
        },
        {
          "output_type": "execute_result",
          "data": {
            "text/plain": [
              "'with open(\"source.txt\", \"r\") as src, open(\"destination.txt\", \"w\") as dest:\\n   dest.write(src.read())\\n5. How would you catch and ha\\nndle division by zero error in Python?\\npython\\nCopy\\nEdit\\ntry:\\n   result = 10 / 0\\nexcept ZeroDivisionError:\\n   print(\"Cannot divide by zero.\")\\n6. Write a Python program that logs an error message to a log file when a division by zero exception occurs.\\npython\\nCopy\\nEdit\\nimport logging\\n\\nlogging.basicConfig(filename=\\'error.log\\', level=logging.ERROR)\\n\\ntry:\\n   x = 5 / 0\\nexcept ZeroDivisionError as e:\\n   logging.error(\"Division by zero error occurred: %s\", e)\\n7. How do you log information at different levels (INFO, ERROR, WARNING) in Python using the logging module?\\npython\\nCopy\\nEdit\\nimport logging\\n\\nlogging.basicConfig(level=logging.DEBUG)\\n\\nlogging.info(\"This is an info message\")\\nlogging.warning(\"This is a warning\")\\nlogging.error(\"This is an error\")\\n8. Write a program to handle a file opening error using exception handling.\\npython\\nCopy\\nEdit\\ntry:\\n   with open(\"data.txt\", \"r\") as file:\\n       print(file.read())\\nexcept IOError:\\n   print(\"Error opening the file.\")\\n9. How can you read a file line by line and store its content in a list in Python?\\npython\\nCopy\\nEdit\\nwith open(\"example.txt\", \"r\") as file:\\n   lines = file.readlines()\\n10. How can you append data to an existing file in Python?\\npython\\nCopy\\nEdit\\nwith open(\"example.txt\", \"a\") as file:\\n   file.write(\"Appended line.\\n\")\\n11. Write a Python program that uses a try-except block to handle an error when attempting to access a dictionary key that doesn\\'t exist.\\npython\\nCopy\\nEdit\\nmy_dict = {\"name\": \"Alice\"}\\n\\ntry:\\n   print(my_dict[\"age\"])\\nexcept KeyError:\\n   print(\"Key does not exist.\")\\n12. Write a program that demonstrates using multiple except blocks to handle different types of exceptions.\\npython\\nCopy\\nEdit\\ntry:\\n   x = int(\"abc\")\\n   y = 10 / 0\\nexcept ValueError:\\n   print(\"Value error occurred.\")\\nexcept ZeroDivisionError:\\n   print(\"Cannot divide by zero.\")\\n13. How would you check if a file exists before attempting to read it in Python?\\npython\\nCopy\\nEdit\\nimport os\\n\\nif os.path.exists(\"example.txt\"):\\n   with open(\"example.txt\", \"r\") as file:\\n       print(file.read())\\nelse:\\n   print(\"File does not exist.\")\\n14. Write a program that uses the logging module to log both informational and error messages.\\npython\\nCopy\\nEdit\\nimport logging\\n\\nlogging.basicConfig(filename=\\'app.log\\', level=logging.DEBUG)\\nlogging.info(\"Program started.\")\\ntry:\\n   x = 5 / 0\\nexcept ZeroDivisionError:\\n   logging.error(\"Division by zero.\")\\n15. Write a Python program that prints the content of a file and handles the case when the file is empty.\\npython\\nCopy\\nEdit\\nwith open(\"example.txt\", \"r\") as file:\\n   content = file.read()\\n   if not content:\\n       print(\"File is empty.\")\\n   else:\\n       print(content)\\n16. Demonstrate how to use memory profiling to check the memory usage of a small program.\\npython\\nCopy\\nEdit\\n# Install memory-profiler using pip install memory-profiler\\nfrom memory_profiler import profile\\n\\n@profile\\ndef my_function():\\n   a = [i for i in range(10000)]\\n\\nmy_function()'"
            ],
            "application/vnd.google.colaboratory.intrinsic+json": {
              "type": "string"
            }
          },
          "metadata": {},
          "execution_count": 9
        }
      ]
    },
    {
      "cell_type": "code",
      "source": [
        "#5. How would you catch and handle division by zero error in Python?\n",
        "\n",
        "try:\n",
        "    result = 10 / 0\n",
        "except ZeroDivisionError:\n",
        "    print(\"Cannot divide by zero.\")"
      ],
      "metadata": {
        "colab": {
          "base_uri": "https://localhost:8080/"
        },
        "id": "dMa74XElw033",
        "outputId": "29d9a6a0-ad20-4f5e-975b-d7a75ecf3efa"
      },
      "execution_count": null,
      "outputs": [
        {
          "output_type": "stream",
          "name": "stdout",
          "text": [
            "Cannot divide by zero.\n"
          ]
        }
      ]
    },
    {
      "cell_type": "code",
      "source": [
        "#6. Write a Python program that logs an error message to a log file when a division by zero exception occurs.\n",
        "\n",
        "import logging\n",
        "\n",
        "logging.basicConfig(filename='error.log', level=logging.ERROR)\n",
        "\n",
        "try:\n",
        "    x = 5 / 0\n",
        "except ZeroDivisionError as e:\n",
        "    logging.error(\"Division by zero error occurred: %s\", e)"
      ],
      "metadata": {
        "colab": {
          "base_uri": "https://localhost:8080/"
        },
        "id": "q3LCJGH9w27d",
        "outputId": "d7f3231b-8e2d-4552-a902-a931a0a310ba"
      },
      "execution_count": null,
      "outputs": [
        {
          "output_type": "stream",
          "name": "stderr",
          "text": [
            "ERROR:root:Division by zero error occurred: division by zero\n"
          ]
        }
      ]
    },
    {
      "cell_type": "code",
      "source": [
        "#7. How do you log information at different levels (INFO, ERROR, WARNING) in Python using the logging module?\n",
        "\n",
        "import logging\n",
        "\n",
        "logging.basicConfig(level=logging.DEBUG)\n",
        "\n",
        "logging.info(\"This is an info message\")\n",
        "logging.warning(\"This is a warning\")\n",
        "logging.error(\"This is an error\")"
      ],
      "metadata": {
        "colab": {
          "base_uri": "https://localhost:8080/"
        },
        "id": "whSA6ewIxcX8",
        "outputId": "aeb788aa-bf3e-4993-bcfe-743a95bb584a"
      },
      "execution_count": null,
      "outputs": [
        {
          "output_type": "stream",
          "name": "stderr",
          "text": [
            "WARNING:root:This is a warning\n",
            "ERROR:root:This is an error\n"
          ]
        }
      ]
    },
    {
      "cell_type": "code",
      "source": [
        "#8. Write a program to handle a file opening error using exception handling.\n",
        "\n",
        "try:\n",
        "    with open(\"data.txt\", \"r\") as file:\n",
        "        print(file.read())\n",
        "except IOError:\n",
        "    print(\"Error opening the file.\")\n",
        "\n",
        "\n",
        "\n",
        "\n",
        "\n",
        "\n",
        "\n",
        "\n",
        " # 16. Demonstrate how to use memory profiling to check the memory usage of a small program.\n",
        "\n",
        "# Install memory-profiler using pip install memory-profiler\n",
        "from memory_profiler import profile\n",
        "\n",
        "@profile\n",
        "def my_function():\n",
        "    a = [i for i in range(10000)]\n",
        "\n",
        "my_function()'''"
      ],
      "metadata": {
        "colab": {
          "base_uri": "https://localhost:8080/",
          "height": 209
        },
        "id": "Z45nc5tfxgty",
        "outputId": "c919e28d-6455-4904-cc4d-d8c40ed3b4cc"
      },
      "execution_count": null,
      "outputs": [
        {
          "output_type": "stream",
          "name": "stdout",
          "text": [
            "Error opening the file.\n"
          ]
        },
        {
          "output_type": "execute_result",
          "data": {
            "text/plain": [
              "'#9. How can you read a file line by line and store its content in a list in Python?\\n\\nwith open(\"example.txt\", \"r\") as file:\\n    lines = file.readlines()\\n#10. How can you append data to an existing file in Python?\\n\\nwith open(\"example.txt\", \"a\") as file:\\n    file.write(\"Appended line.\\n\")\\n#11. Write a Python program that uses a try-except block to handle an error when attempting to access a dictionary key that doesn\\'t exist.\\n\\nmy_dict = {\"name\": \"Alice\"}\\n\\ntry:\\n    print(my_dict[\"age\"])\\nexcept KeyError:\\n    print(\"Key does not exist.\")\\n #12. Write a program that demonstrates using multiple except blocks to handle different types of exceptions.\\n\\ntry:\\n    x = int(\"abc\")\\n    y = 10 / 0\\nexcept ValueError:\\n    print(\"Value error occurred.\")\\nexcept ZeroDivisionError:\\n    print(\"Cannot divide by zero.\")\\n#13. How would you check if a file exists before attempting to read it in Python?\\n\\nimport os\\n\\nif os.path.exists(\"example.txt\"):\\n    with open(\"example.txt\", \"r\") as file:\\n        print(file.read())\\nelse:\\n    print(\"File does not exist.\")\\n#14. Write a program that uses the logging module to log both informational and error messages.\\n\\nimport logging\\n\\nlogging.basicConfig(filename=\\'app.log\\', level=logging.DEBUG)\\nlogging.info(\"Program started.\")\\ntry:\\n    x = 5 / 0\\nexcept ZeroDivisionError:\\n    logging.error(\"Division by zero.\")\\n#15. Write a Python program that prints the content of a file and handles the case when the file is empty.\\n\\nwith open(\"example.txt\", \"r\") as file:\\n    content = file.read()\\n    if not content:\\n        print(\"File is empty.\")\\n    else:\\n        print(content)\\n # 16. Demonstrate how to use memory profiling to check the memory usage of a small program.\\n\\n# Install memory-profiler using pip install memory-profiler\\nfrom memory_profiler import profile\\n\\n@profile\\ndef my_function():\\n    a = [i for i in range(10000)]\\n\\nmy_function()'"
            ],
            "application/vnd.google.colaboratory.intrinsic+json": {
              "type": "string"
            }
          },
          "metadata": {},
          "execution_count": 13
        }
      ]
    },
    {
      "cell_type": "code",
      "source": [
        "#9. How can you read a file line by line and store its content in a list in Python?\n",
        "\n",
        "with open(\"example.txt\", \"r\") as file:\n",
        "    lines = file.readlines()"
      ],
      "metadata": {
        "id": "94Y0K4Jkx5gJ"
      },
      "execution_count": null,
      "outputs": []
    },
    {
      "cell_type": "code",
      "source": [
        "#10. How can you append data to an existing file in Python?\n",
        "\n",
        "with open(\"example.txt\", \"a\") as file:\n",
        "Wa r    file.write(\"Appended line.\\n\")"
      ],
      "metadata": {
        "id": "LnQH9rNLyCIQ"
      },
      "execution_count": null,
      "outputs": []
    },
    {
      "cell_type": "code",
      "source": [
        "#11. Write a Python program that uses a try-except block to handle an error when attempting to access a dictionary key that doesn't exist.\n",
        "\n",
        "my_dict = {\"name\": \"Alice\"}\n",
        "\n",
        "try:\n",
        "    print(my_dict[\"age\"])\n",
        "except KeyError:\n",
        "    print(\"Key does not exist.\")"
      ],
      "metadata": {
        "colab": {
          "base_uri": "https://localhost:8080/"
        },
        "id": "3Ls6MoAmyQa1",
        "outputId": "99863de3-7653-49a9-9395-fb6648d6ee6e"
      },
      "execution_count": null,
      "outputs": [
        {
          "output_type": "stream",
          "name": "stdout",
          "text": [
            "Key does not exist.\n"
          ]
        }
      ]
    },
    {
      "cell_type": "code",
      "source": [
        "#12. Write a program that demonstrates using multiple except blocks to handle different types of exceptionsF\n",
        "\n",
        "\n",
        "\n",
        "\n",
        "def exception_demo():\n",
        "    try:\n",
        "        # Get input from the user\n",
        "        num1 = int(input(\"Enter a number: \"))\n",
        "        num2 = int(input(\"Enter another number: \"))\n",
        "\n",
        "        # Perform division\n",
        "        result = num1 / num2\n",
        "        print(\"Result of division:\", result)\n",
        "\n",
        "        # Accessing a list element\n",
        "        my_list = [1, 2, 3]\n",
        "        index = int(input(\"Enter list index (0 to 2): \"))\n",
        "        print(\"List element:\", my_list[index])\n",
        "\n",
        "    except ValueError:\n",
        "        print(\"ValueError: Invalid input! Please enter only integers.\")\n",
        "\n",
        "    except ZeroDivisionError:\n",
        "        print(\"ZeroDivisionError: Division by zero is not allowed.\")\n",
        "\n",
        "    except IndexError:\n",
        "        print(\"IndexError: List index out of range.\")\n",
        "\n",
        "    except Exception as e:\n",
        "        print(\"General Exception:\", e)\n",
        "\n",
        "# Call the function\n",
        "exception_demo()\n"
      ],
      "metadata": {
        "colab": {
          "base_uri": "https://localhost:8080/"
        },
        "id": "uWCA81AgT10X",
        "outputId": "c6a9edc2-bbd8-4da0-c625-796c3d941c53"
      },
      "execution_count": 1,
      "outputs": [
        {
          "output_type": "stream",
          "name": "stdout",
          "text": [
            "Enter a number: 12\n",
            "Enter another number: 16\n",
            "Result of division: 0.75\n",
            "Enter list index (0 to 2): 2\n",
            "List element: 3\n"
          ]
        }
      ]
    },
    {
      "cell_type": "code",
      "source": [
        "#13. How would you check if a file exists before attempting to read it in Python?\n",
        "\n",
        "import os\n",
        "\n",
        "if os.path.exists(\"example.txt\"):\n",
        "    with open(\"example.txt\", \"r\") as file:\n",
        "        print(file.read())\n",
        "else:\n",
        "    print(\"File does not exist.\")"
      ],
      "metadata": {
        "colab": {
          "base_uri": "https://localhost:8080/"
        },
        "id": "lZHH4X9HUboH",
        "outputId": "778ad77b-3239-4cc4-bf9c-8c160bb9b98b"
      },
      "execution_count": 2,
      "outputs": [
        {
          "output_type": "stream",
          "name": "stdout",
          "text": [
            "File does not exist.\n"
          ]
        }
      ]
    },
    {
      "cell_type": "code",
      "source": [
        "#14. Write a program that uses the logging module to log both informational and error messages.\n",
        "\n",
        "import logging\n",
        "\n",
        "logging.basicConfig(filename='app.log', level=logging.DEBUG)\n",
        "logging.info(\"Program started.\")\n",
        "try:\n",
        "    x = 5 / 0\n",
        "except ZeroDivisionError:\n",
        "    logging.error(\"Division by zero.\")"
      ],
      "metadata": {
        "colab": {
          "base_uri": "https://localhost:8080/"
        },
        "id": "COPMKY-TUiFF",
        "outputId": "02e6def6-2cd5-41ad-b309-d626471969ae"
      },
      "execution_count": 3,
      "outputs": [
        {
          "output_type": "stream",
          "name": "stderr",
          "text": [
            "ERROR:root:Division by zero.\n"
          ]
        }
      ]
    },
    {
      "cell_type": "code",
      "source": [
        "#15. Write a Python program that prints the content of a file and handles the case when the file is empty.\n",
        "\n",
        "# Program to print the content of a file and handle empty file\n",
        "\n",
        "def read_file_content(filename):\n",
        "    try:\n",
        "        with open(filename, 'r') as file:\n",
        "            content = file.read()\n",
        "\n",
        "            if content.strip() == \"\":\n",
        "                print(\"The file is empty.\")\n",
        "            else:\n",
        "                print(\"File Content:\\n\")\n",
        "                print(content)\n",
        "\n",
        "    except FileNotFoundError:\n",
        "        print(\"FileNotFoundError: The file does not exist.\")\n",
        "    except Exception as e:\n",
        "        print(\"An error occurred:\", e)\n",
        "\n",
        "# Example usage\n",
        "file_name = input(\"Enter the filename: \")\n",
        "read_file_content(file_name)\n"
      ],
      "metadata": {
        "colab": {
          "base_uri": "https://localhost:8080/"
        },
        "id": "jHNWAGFYUpCp",
        "outputId": "0eab38ea-a4dc-4a26-e95e-277cf19952fa"
      },
      "execution_count": 5,
      "outputs": [
        {
          "output_type": "stream",
          "name": "stdout",
          "text": [
            "Enter the filename: path\n",
            "FileNotFoundError: The file does not exist.\n"
          ]
        }
      ]
    },
    {
      "cell_type": "code",
      "source": [
        "# 16. Demonstrate how to use memory profiling to check the memory usage of a small program.\n",
        "# Install memory-profiler using pip install memory-profiler\n",
        "!pip install memory-profiler\n",
        "from memory_profiler import profile\n",
        "\n",
        "@profile\n",
        "def my_function():\n",
        "    a = [i for i in range(10000)]\n",
        "\n",
        "my_function()"
      ],
      "metadata": {
        "colab": {
          "base_uri": "https://localhost:8080/"
        },
        "id": "s_qP_n0aVnwN",
        "outputId": "2be96f31-7300-4642-ae28-8fda40ad53f6"
      },
      "execution_count": 12,
      "outputs": [
        {
          "output_type": "stream",
          "name": "stdout",
          "text": [
            "Requirement already satisfied: memory-profiler in /usr/local/lib/python3.11/dist-packages (0.61.0)\n",
            "Requirement already satisfied: psutil in /usr/local/lib/python3.11/dist-packages (from memory-profiler) (5.9.5)\n",
            "ERROR: Could not find file <ipython-input-12-549c0dbdaef7>\n",
            "NOTE: %mprun can only be used on functions defined in physical files, and not in the IPython environment.\n"
          ]
        }
      ]
    },
    {
      "cell_type": "code",
      "source": [
        "#17. Write a Python program to create and write a list of numbers to a file, one number per line\n",
        "\n",
        "# Program to write a list of numbers to a file, one per line\n",
        "\n",
        "# Write numbers to file\n",
        "numbers = [10, 20, 30, 40, 50]\n",
        "\n",
        "with open(\"numbers.txt\", \"w\") as file:\n",
        "    for number in numbers:\n",
        "        file.write(str(number) + \"\\n\")\n",
        "\n",
        "print(\"Numbers written to 'numbers.txt' successfully.\\n\")\n",
        "\n",
        "# Read and print file content\n",
        "with open(\"numbers.txt\", \"r\") as file:\n",
        "    print(\"Content of numbers.txt:\")\n",
        "    print(file.read())\n",
        "\n",
        "\n"
      ],
      "metadata": {
        "colab": {
          "base_uri": "https://localhost:8080/"
        },
        "id": "SXBo-L0JWxoY",
        "outputId": "40905a93-8808-40f5-b7e7-7ed9d367277f"
      },
      "execution_count": 32,
      "outputs": [
        {
          "output_type": "stream",
          "name": "stdout",
          "text": [
            "Numbers written to 'numbers.txt' successfully.\n",
            "\n",
            "Content of numbers.txt:\n",
            "10\n",
            "20\n",
            "30\n",
            "40\n",
            "50\n",
            "\n"
          ]
        }
      ]
    },
    {
      "cell_type": "code",
      "source": [
        "#18. How would you implement a basic logging setup that logs to a file with rotation after 1MB\n",
        "\n",
        "import logging\n",
        "from logging.handlers import RotatingFileHandler\n",
        "\n",
        "# Create a rotating file handler (1MB size limit, 3 backup files)\n",
        "handler = RotatingFileHandler(\"app.log\", maxBytes=1 * 1024 * 1024, backupCount=3)\n",
        "\n",
        "logging.basicConfig(\n",
        "    level=logging.INFO,\n",
        "    format='%(asctime)s - %(levelname)s - %(message)s',\n",
        "    handlers=[handler]\n",
        ")\n",
        "\n",
        "logging.info(\"This is a log message.\")"
      ],
      "metadata": {
        "id": "cBo3dbj4X7eR"
      },
      "execution_count": 18,
      "outputs": []
    },
    {
      "cell_type": "code",
      "source": [
        "#19. Write a program that handles both IndexError and KeyError using a try-except block\n",
        "\n",
        "# Program to handle IndexError and KeyError\n",
        "\n",
        "try:\n",
        "    my_list = [1, 2, 3]\n",
        "    my_dict = {'a': 1, 'b': 2}\n",
        "\n",
        "    print(my_list[5])       # May raise IndexError\n",
        "    print(my_dict['z'])     # May raise KeyError\n",
        "\n",
        "except IndexError:\n",
        "    print(\"Caught an IndexError: List index is out of range.\")\n",
        "except KeyError:\n",
        "    print(\"Caught a KeyError: Key not found in dictionary.\")"
      ],
      "metadata": {
        "colab": {
          "base_uri": "https://localhost:8080/"
        },
        "id": "gNxG7i0nYMs3",
        "outputId": "dff8c8a5-343a-4110-949e-dc6f7c156d1a"
      },
      "execution_count": 20,
      "outputs": [
        {
          "output_type": "stream",
          "name": "stdout",
          "text": [
            "Caught an IndexError: List index is out of range.\n"
          ]
        }
      ]
    },
    {
      "cell_type": "code",
      "source": [
        "from google.colab import files\n",
        "\n",
        "uploaded = files.upload()  # Choose your sample.txt file when prompted\n"
      ],
      "metadata": {
        "colab": {
          "base_uri": "https://localhost:8080/",
          "height": 72
        },
        "id": "6mUCXClNZcLk",
        "outputId": "2897fb08-d391-451d-be14-e795397e1ebc"
      },
      "execution_count": 23,
      "outputs": [
        {
          "output_type": "display_data",
          "data": {
            "text/plain": [
              "<IPython.core.display.HTML object>"
            ],
            "text/html": [
              "\n",
              "     <input type=\"file\" id=\"files-cde924df-bfa4-4124-a6e0-0feffd65f032\" name=\"files[]\" multiple disabled\n",
              "        style=\"border:none\" />\n",
              "     <output id=\"result-cde924df-bfa4-4124-a6e0-0feffd65f032\">\n",
              "      Upload widget is only available when the cell has been executed in the\n",
              "      current browser session. Please rerun this cell to enable.\n",
              "      </output>\n",
              "      <script>// Copyright 2017 Google LLC\n",
              "//\n",
              "// Licensed under the Apache License, Version 2.0 (the \"License\");\n",
              "// you may not use this file except in compliance with the License.\n",
              "// You may obtain a copy of the License at\n",
              "//\n",
              "//      http://www.apache.org/licenses/LICENSE-2.0\n",
              "//\n",
              "// Unless required by applicable law or agreed to in writing, software\n",
              "// distributed under the License is distributed on an \"AS IS\" BASIS,\n",
              "// WITHOUT WARRANTIES OR CONDITIONS OF ANY KIND, either express or implied.\n",
              "// See the License for the specific language governing permissions and\n",
              "// limitations under the License.\n",
              "\n",
              "/**\n",
              " * @fileoverview Helpers for google.colab Python module.\n",
              " */\n",
              "(function(scope) {\n",
              "function span(text, styleAttributes = {}) {\n",
              "  const element = document.createElement('span');\n",
              "  element.textContent = text;\n",
              "  for (const key of Object.keys(styleAttributes)) {\n",
              "    element.style[key] = styleAttributes[key];\n",
              "  }\n",
              "  return element;\n",
              "}\n",
              "\n",
              "// Max number of bytes which will be uploaded at a time.\n",
              "const MAX_PAYLOAD_SIZE = 100 * 1024;\n",
              "\n",
              "function _uploadFiles(inputId, outputId) {\n",
              "  const steps = uploadFilesStep(inputId, outputId);\n",
              "  const outputElement = document.getElementById(outputId);\n",
              "  // Cache steps on the outputElement to make it available for the next call\n",
              "  // to uploadFilesContinue from Python.\n",
              "  outputElement.steps = steps;\n",
              "\n",
              "  return _uploadFilesContinue(outputId);\n",
              "}\n",
              "\n",
              "// This is roughly an async generator (not supported in the browser yet),\n",
              "// where there are multiple asynchronous steps and the Python side is going\n",
              "// to poll for completion of each step.\n",
              "// This uses a Promise to block the python side on completion of each step,\n",
              "// then passes the result of the previous step as the input to the next step.\n",
              "function _uploadFilesContinue(outputId) {\n",
              "  const outputElement = document.getElementById(outputId);\n",
              "  const steps = outputElement.steps;\n",
              "\n",
              "  const next = steps.next(outputElement.lastPromiseValue);\n",
              "  return Promise.resolve(next.value.promise).then((value) => {\n",
              "    // Cache the last promise value to make it available to the next\n",
              "    // step of the generator.\n",
              "    outputElement.lastPromiseValue = value;\n",
              "    return next.value.response;\n",
              "  });\n",
              "}\n",
              "\n",
              "/**\n",
              " * Generator function which is called between each async step of the upload\n",
              " * process.\n",
              " * @param {string} inputId Element ID of the input file picker element.\n",
              " * @param {string} outputId Element ID of the output display.\n",
              " * @return {!Iterable<!Object>} Iterable of next steps.\n",
              " */\n",
              "function* uploadFilesStep(inputId, outputId) {\n",
              "  const inputElement = document.getElementById(inputId);\n",
              "  inputElement.disabled = false;\n",
              "\n",
              "  const outputElement = document.getElementById(outputId);\n",
              "  outputElement.innerHTML = '';\n",
              "\n",
              "  const pickedPromise = new Promise((resolve) => {\n",
              "    inputElement.addEventListener('change', (e) => {\n",
              "      resolve(e.target.files);\n",
              "    });\n",
              "  });\n",
              "\n",
              "  const cancel = document.createElement('button');\n",
              "  inputElement.parentElement.appendChild(cancel);\n",
              "  cancel.textContent = 'Cancel upload';\n",
              "  const cancelPromise = new Promise((resolve) => {\n",
              "    cancel.onclick = () => {\n",
              "      resolve(null);\n",
              "    };\n",
              "  });\n",
              "\n",
              "  // Wait for the user to pick the files.\n",
              "  const files = yield {\n",
              "    promise: Promise.race([pickedPromise, cancelPromise]),\n",
              "    response: {\n",
              "      action: 'starting',\n",
              "    }\n",
              "  };\n",
              "\n",
              "  cancel.remove();\n",
              "\n",
              "  // Disable the input element since further picks are not allowed.\n",
              "  inputElement.disabled = true;\n",
              "\n",
              "  if (!files) {\n",
              "    return {\n",
              "      response: {\n",
              "        action: 'complete',\n",
              "      }\n",
              "    };\n",
              "  }\n",
              "\n",
              "  for (const file of files) {\n",
              "    const li = document.createElement('li');\n",
              "    li.append(span(file.name, {fontWeight: 'bold'}));\n",
              "    li.append(span(\n",
              "        `(${file.type || 'n/a'}) - ${file.size} bytes, ` +\n",
              "        `last modified: ${\n",
              "            file.lastModifiedDate ? file.lastModifiedDate.toLocaleDateString() :\n",
              "                                    'n/a'} - `));\n",
              "    const percent = span('0% done');\n",
              "    li.appendChild(percent);\n",
              "\n",
              "    outputElement.appendChild(li);\n",
              "\n",
              "    const fileDataPromise = new Promise((resolve) => {\n",
              "      const reader = new FileReader();\n",
              "      reader.onload = (e) => {\n",
              "        resolve(e.target.result);\n",
              "      };\n",
              "      reader.readAsArrayBuffer(file);\n",
              "    });\n",
              "    // Wait for the data to be ready.\n",
              "    let fileData = yield {\n",
              "      promise: fileDataPromise,\n",
              "      response: {\n",
              "        action: 'continue',\n",
              "      }\n",
              "    };\n",
              "\n",
              "    // Use a chunked sending to avoid message size limits. See b/62115660.\n",
              "    let position = 0;\n",
              "    do {\n",
              "      const length = Math.min(fileData.byteLength - position, MAX_PAYLOAD_SIZE);\n",
              "      const chunk = new Uint8Array(fileData, position, length);\n",
              "      position += length;\n",
              "\n",
              "      const base64 = btoa(String.fromCharCode.apply(null, chunk));\n",
              "      yield {\n",
              "        response: {\n",
              "          action: 'append',\n",
              "          file: file.name,\n",
              "          data: base64,\n",
              "        },\n",
              "      };\n",
              "\n",
              "      let percentDone = fileData.byteLength === 0 ?\n",
              "          100 :\n",
              "          Math.round((position / fileData.byteLength) * 100);\n",
              "      percent.textContent = `${percentDone}% done`;\n",
              "\n",
              "    } while (position < fileData.byteLength);\n",
              "  }\n",
              "\n",
              "  // All done.\n",
              "  yield {\n",
              "    response: {\n",
              "      action: 'complete',\n",
              "    }\n",
              "  };\n",
              "}\n",
              "\n",
              "scope.google = scope.google || {};\n",
              "scope.google.colab = scope.google.colab || {};\n",
              "scope.google.colab._files = {\n",
              "  _uploadFiles,\n",
              "  _uploadFilesContinue,\n",
              "};\n",
              "})(self);\n",
              "</script> "
            ]
          },
          "metadata": {}
        },
        {
          "output_type": "stream",
          "name": "stdout",
          "text": [
            "Saving sample.txt to sample.txt\n"
          ]
        }
      ]
    },
    {
      "cell_type": "code",
      "source": [
        "#20. How would you open a file and read its contents using a context manager in Python\n",
        "\n",
        "# Reading a file using a context manager\n",
        "\n",
        "filename = \"sample.txt\"\n",
        "\n",
        "with open(filename, \"r\") as file:\n",
        "    content = file.read()\n",
        "    print(\"File content:\\n\", content)"
      ],
      "metadata": {
        "colab": {
          "base_uri": "https://localhost:8080/"
        },
        "id": "kShSA0PaYbim",
        "outputId": "9f404577-0ba4-42bc-8a8b-8a733b435f82"
      },
      "execution_count": 24,
      "outputs": [
        {
          "output_type": "stream",
          "name": "stdout",
          "text": [
            "File content:\n",
            " \n"
          ]
        }
      ]
    },
    {
      "cell_type": "code",
      "source": [
        "#21. Write a Python program that reads a file and prints the number of occurrences of a specific word\n",
        "\n",
        "# Program to count occurrences of a specific word in a file\n",
        "\n",
        "filename = \"sample.txt\"\n",
        "word_to_count = \"python\"\n",
        "\n",
        "with open(filename, \"r\") as file:\n",
        "    content = file.read().lower()\n",
        "    count = content.count(word_to_count.lower())\n",
        "\n",
        "print(f\"The word '{word_to_count}' occurs {count} times in the file.\")"
      ],
      "metadata": {
        "colab": {
          "base_uri": "https://localhost:8080/"
        },
        "id": "FMWLcBPzdoQr",
        "outputId": "8d6f8b9c-0cf3-475e-defa-ae7461f6bd79"
      },
      "execution_count": 25,
      "outputs": [
        {
          "output_type": "stream",
          "name": "stdout",
          "text": [
            "The word 'python' occurs 0 times in the file.\n"
          ]
        }
      ]
    },
    {
      "cell_type": "code",
      "source": [
        "#22. How can you check if a file is empty before attempting to read its contents\n",
        "\n",
        "import os\n",
        "\n",
        "filename = \"sample.txt\"\n",
        "\n",
        "if os.path.getsize(filename) == 0:\n",
        "    print(\"The file is empty.\")\n",
        "else:\n",
        "    with open(filename, \"r\") as file:\n",
        "        print(\"File content:\\n\", file.read())"
      ],
      "metadata": {
        "colab": {
          "base_uri": "https://localhost:8080/"
        },
        "id": "aCG5l2faeFZM",
        "outputId": "344bbb27-786d-4312-d832-14f479579924"
      },
      "execution_count": 26,
      "outputs": [
        {
          "output_type": "stream",
          "name": "stdout",
          "text": [
            "The file is empty.\n"
          ]
        }
      ]
    },
    {
      "cell_type": "code",
      "source": [
        "#23. Write a Python program that writes to a log file when an error occurs during file handling\n",
        "\n",
        "\n",
        "import logging\n",
        "\n",
        "# Set up logging\n",
        "logging.basicConfig(filename='error_log.txt', level=logging.ERROR,\n",
        "                    format='%(asctime)s - %(levelname)s - %(message)s')\n",
        "\n",
        "filename = \"nonexistent.txt\"\n",
        "\n",
        "try:\n",
        "    with open(filename, \"r\") as file:\n",
        "        data = file.read()\n",
        "except Exception as e:\n",
        "    logging.error(f\"Error occurred while handling file: {e}\")\n",
        "    print(\"An error occurred. Check 'error_log.txt' for details.\")"
      ],
      "metadata": {
        "colab": {
          "base_uri": "https://localhost:8080/"
        },
        "id": "TLXh5PZAelSU",
        "outputId": "f65d7fe1-4598-4f7b-ffb5-44323e5f1fed"
      },
      "execution_count": 29,
      "outputs": [
        {
          "output_type": "stream",
          "name": "stderr",
          "text": [
            "ERROR:root:Error occurred while handling file: [Errno 2] No such file or directory: 'nonexistent.txt'\n"
          ]
        },
        {
          "output_type": "stream",
          "name": "stdout",
          "text": [
            "An error occurred. Check 'error_log.txt' for details.\n"
          ]
        }
      ]
    }
  ]
}