{
  "nbformat": 4,
  "nbformat_minor": 0,
  "metadata": {
    "colab": {
      "provenance": []
    },
    "kernelspec": {
      "name": "python3",
      "display_name": "Python 3"
    },
    "language_info": {
      "name": "python"
    }
  },
  "cells": [
    {
      "cell_type": "code",
      "source": [
        " 1# code to reverse a string\n",
        "\n",
        " def reverse_string(s):\n",
        "    return s[::-1]\n",
        "\n",
        "# Example usage\n",
        "string = \"Hello, World!\"\n",
        "reversed_string = reverse_string(string)\n",
        "print(\"Reversed string:\", reversed_string)\n"
      ],
      "metadata": {
        "colab": {
          "base_uri": "https://localhost:8080/"
        },
        "id": "5hr8lxPVy3E5",
        "outputId": "d42b4bca-ab9d-4f96-fbe6-6b04f4c1ee65"
      },
      "execution_count": 3,
      "outputs": [
        {
          "output_type": "stream",
          "name": "stdout",
          "text": [
            "Reversed string: !dlroW ,olleH\n"
          ]
        }
      ]
    },
    {
      "cell_type": "code",
      "source": [
        "# 2 code to count the number of vowels in a string\n",
        "string=str(input(\"enter the string\"))\n",
        "def count_vowels(s):\n",
        "    vowels = \"aeiouAEIOU\"\n",
        "    count = 0\n",
        "    for char in s:\n",
        "        if char in vowels:\n",
        "            count += 1\n",
        "    return count\n",
        "\n",
        "\n",
        "vowel_count = count_vowels(string)\n",
        "print(\"Number of vowels:\", string)\n"
      ],
      "metadata": {
        "colab": {
          "base_uri": "https://localhost:8080/"
        },
        "id": "dRPN4S47zF0t",
        "outputId": "640e1092-0d03-44ce-e918-bdc8b7dfbb13"
      },
      "execution_count": 8,
      "outputs": [
        {
          "output_type": "stream",
          "name": "stdout",
          "text": [
            "enter the stringtanuja\n",
            "Number of vowels: tanuja\n"
          ]
        }
      ]
    },
    {
      "cell_type": "code",
      "source": [
        "# Write a code to check if a given string is a palindrome or not\n",
        "\n",
        "def is_palindrome(s):\n",
        "    # Normalize the string by removing spaces and converting to lowercase\n",
        "    normalized_str = ''.join(s.split()).lower()\n",
        "    # Check if the string is equal to its reverse\n",
        "    return normalized_str == normalized_str[::-1]\n",
        "\n",
        "# Example usage\n",
        "string = \"A man a plan a canal Panama\"\n",
        "if is_palindrome(string):\n",
        "    print(f'\"{string}\" is a palindrome.')\n",
        "else:\n",
        "    print(f'\"{string}\" is not a palindrome.')\n"
      ],
      "metadata": {
        "colab": {
          "base_uri": "https://localhost:8080/"
        },
        "id": "EfmgdvPV1oed",
        "outputId": "5f878693-bc17-439d-f8ff-917151a16d5d"
      },
      "execution_count": 12,
      "outputs": [
        {
          "output_type": "stream",
          "name": "stdout",
          "text": [
            "\"A man a plan a canal Panama\" is a palindrome.\n"
          ]
        }
      ]
    },
    {
      "cell_type": "code",
      "source": [
        "#  Write a code to check if two given strings are anagrams of each other\n",
        "def are_anagrams(str1, str2):\n",
        "    # Normalize the strings by removing spaces and converting to lowercase\n",
        "    normalized_str1 = ''.join(str1.split()).lower()\n",
        "    normalized_str2 = ''.join(str2.split()).lower()\n",
        "\n",
        "    # Sort the characters of both strings and compare\n",
        "    return sorted(normalized_str1) == sorted(normalized_str2)\n",
        "\n",
        "# Example usage\n",
        "string1 = \"Listen\"\n",
        "string2 = \"Silent\"\n",
        "\n",
        "if are_anagrams(string1, string2):\n",
        "    print(f'\"{string1}\" and \"{string2}\" are anagrams.')\n",
        "else:\n",
        "    print(f'\"{string1}\" and \"{string2}\" are not anagrams.')\n"
      ],
      "metadata": {
        "colab": {
          "base_uri": "https://localhost:8080/"
        },
        "id": "Xh43qScr2t85",
        "outputId": "d52a659f-8623-44a5-92ec-35abae665efa"
      },
      "execution_count": 13,
      "outputs": [
        {
          "output_type": "stream",
          "name": "stdout",
          "text": [
            "\"Listen\" and \"Silent\" are anagrams.\n"
          ]
        }
      ]
    },
    {
      "cell_type": "code",
      "source": [
        "#5. Write a code to find all occurrences of a given substring within another string\n",
        "def find_all_occurrences(string, substring):\n",
        "    occurrences = []\n",
        "    start = 0\n",
        "\n",
        "    while True:\n",
        "        # Find the index of the substring\n",
        "        start = string.find(substring, start)\n",
        "\n",
        "        # If no more occurrences are found, break the loop\n",
        "        if start == -1:\n",
        "            break\n",
        "\n",
        "        # Append the index to the list\n",
        "        occurrences.append(start)\n",
        "\n",
        "        # Move to the next character after the current found substring\n",
        "        start += 1\n",
        "\n",
        "    return occurrences\n",
        "\n",
        "# Example usage\n",
        "string = \"The quick brown fox jumps over the lazy dog. The dog is happy.\"\n",
        "substring = \"dog\"\n",
        "occurrences = find_all_occurrences(string, substring)\n",
        "\n",
        "print(f'Occurrences of \"{substring}\": {occurrences}')\n"
      ],
      "metadata": {
        "colab": {
          "base_uri": "https://localhost:8080/"
        },
        "id": "5g1KsUyB35wB",
        "outputId": "13be6765-f557-4b3e-fdb9-56eb983d6454"
      },
      "execution_count": 14,
      "outputs": [
        {
          "output_type": "stream",
          "name": "stdout",
          "text": [
            "Occurrences of \"dog\": [40, 49]\n"
          ]
        }
      ]
    },
    {
      "cell_type": "code",
      "source": [
        "#6  Write a code to perform basic string compression using the counts of repeated characters\u0012\n",
        "def compress_string(s):\n",
        "    if not s:\n",
        "        return \"\"\n",
        "\n",
        "    compressed = []\n",
        "    count = 1\n",
        "\n",
        "    for i in range(1, len(s)):\n",
        "        if s[i] == s[i - 1]:\n",
        "            count += 1\n",
        "        else:\n",
        "            compressed.append(s[i - 1])\n",
        "            compressed.append(str(count))\n",
        "            count = 1  # Reset the count for the new character\n",
        "\n",
        "    # Append the last character and its count\n",
        "    compressed.append(s[-1])\n",
        "    compressed.append(str(count))\n",
        "\n",
        "    # Join the list into a single string\n",
        "    compressed_string = ''.join(compressed)\n",
        "\n",
        "    # Return the compressed string only if it's shorter than the original\n",
        "    return compressed_string if len(compressed_string) < len(s) else s\n",
        "\n",
        "# Example usage\n",
        "input_string = \"aabcccccaaa\"\n",
        "compressed_string = compress_string(input_string)\n",
        "print(\"Compressed string:\", compressed_string)\n"
      ],
      "metadata": {
        "colab": {
          "base_uri": "https://localhost:8080/"
        },
        "id": "7c5o2Mzr4pqx",
        "outputId": "7f0c9d97-1a33-4d6e-e47a-8f4f1757269f"
      },
      "execution_count": 15,
      "outputs": [
        {
          "output_type": "stream",
          "name": "stdout",
          "text": [
            "Compressed string: a2b1c5a3\n"
          ]
        }
      ]
    },
    {
      "cell_type": "code",
      "source": [
        "# 7 Write a code to determine if a string has all unique characters\n",
        "def has_unique_characters(s):\n",
        "    # Use a set to track seen characters\n",
        "    seen = set()\n",
        "\n",
        "    for char in s:\n",
        "        # If the character is already in the set, return False\n",
        "        if char in seen:\n",
        "            return False\n",
        "        # Add the character to the set\n",
        "        seen.add(char)\n",
        "\n",
        "    return True\n",
        "\n",
        "# Example usage\n",
        "input_string = \"abcdefg\"\n",
        "if has_unique_characters(input_string):\n",
        "    print(f'\"{input_string}\" has all unique characters.')\n",
        "else:\n",
        "    print(f'\"{input_string}\" does not have all unique characters.')\n"
      ],
      "metadata": {
        "colab": {
          "base_uri": "https://localhost:8080/"
        },
        "id": "oGVptK8e5EBU",
        "outputId": "5ad77f5b-ea01-4178-92ee-250503193157"
      },
      "execution_count": 16,
      "outputs": [
        {
          "output_type": "stream",
          "name": "stdout",
          "text": [
            "\"abcdefg\" has all unique characters.\n"
          ]
        }
      ]
    },
    {
      "cell_type": "code",
      "source": [
        "# 8 Write a code to convert a given string to uppercase or lowercase\n",
        "def convert_case(s, to_upper=True):\n",
        "    if to_upper:\n",
        "        return s.upper()  # Convert to uppercase\n",
        "    else:\n",
        "        return s.lower()  # Convert to lowercase\n",
        "\n",
        "# Example usage\n",
        "input_string = \"Hello, World!\"\n",
        "\n",
        "# Convert to uppercase\n",
        "uppercase_string = convert_case(input_string, to_upper=True)\n",
        "print(\"Uppercase:\", uppercase_string)\n",
        "\n",
        "# Convert to lowercase\n",
        "lowercase_string = convert_case(input_string, to_upper=False)\n",
        "print(\"Lowercase:\", lowercase_string)\n"
      ],
      "metadata": {
        "colab": {
          "base_uri": "https://localhost:8080/"
        },
        "id": "AnN1VIB95tjE",
        "outputId": "b663ca07-fcad-4168-daae-bc75d32ba836"
      },
      "execution_count": 19,
      "outputs": [
        {
          "output_type": "stream",
          "name": "stdout",
          "text": [
            "Uppercase: HELLO, WORLD!\n",
            "Lowercase: hello, world!\n"
          ]
        }
      ]
    },
    {
      "cell_type": "code",
      "source": [
        "# 9 Write a code to count the number of words in a string\n",
        "def count_words(s):\n",
        "    # Split the string into words based on whitespace\n",
        "    words = s.split()\n",
        "    return len(words)\n",
        "\n",
        "# Example usage\n",
        "input_string = \"Hello, how are you doing today?\"\n",
        "word_count = count_words(input_string)\n",
        "print(\"Number of words:\", word_count)\n"
      ],
      "metadata": {
        "colab": {
          "base_uri": "https://localhost:8080/"
        },
        "id": "-ytrw3on6CHX",
        "outputId": "f9743c28-035d-4a28-d95b-5e3a3dd63de0"
      },
      "execution_count": 20,
      "outputs": [
        {
          "output_type": "stream",
          "name": "stdout",
          "text": [
            "Number of words: 6\n"
          ]
        }
      ]
    },
    {
      "cell_type": "code",
      "source": [
        "#10  Write a code to concatenate two strings without using the + operator\n",
        "def concatenate_strings(str1, str2):\n",
        "    # Use join method to concatenate\n",
        "    return ''.join([str1, str2])\n",
        "\n",
        "# Example usage\n",
        "string1 = \"Hello\"\n",
        "string2 = \" World!\"\n",
        "result = concatenate_strings(string1, string2)\n",
        "print(\"Concatenated string:\", result)\n"
      ],
      "metadata": {
        "colab": {
          "base_uri": "https://localhost:8080/"
        },
        "id": "6SA9QExk6ccT",
        "outputId": "9f1c715b-79ce-4cc4-cb89-b936df2baab2"
      },
      "execution_count": 21,
      "outputs": [
        {
          "output_type": "stream",
          "name": "stdout",
          "text": [
            "Concatenated string: Hello World!\n"
          ]
        }
      ]
    },
    {
      "cell_type": "code",
      "source": [
        "#11  Write a code to remove all occurrences of a specific element from a list\n",
        "def remove_occurrences(lst, element):\n",
        "    # Use list comprehension to create a new list without the specified element\n",
        "    return [item for item in lst if item != element]\n",
        "\n",
        "# Example usage\n",
        "my_list = [1, 2, 3, 4, 2, 5, 2]\n",
        "element_to_remove = 2\n",
        "result = remove_occurrences(my_list, element_to_remove)\n",
        "\n",
        "print(\"List after removing all occurrences of\", element_to_remove, \":\", result)\n"
      ],
      "metadata": {
        "colab": {
          "base_uri": "https://localhost:8080/"
        },
        "id": "cswWBW3i61KS",
        "outputId": "89a50e4d-ecec-4d12-91cb-c6a87e89dda0"
      },
      "execution_count": 22,
      "outputs": [
        {
          "output_type": "stream",
          "name": "stdout",
          "text": [
            "List after removing all occurrences of 2 : [1, 3, 4, 5]\n"
          ]
        }
      ]
    },
    {
      "cell_type": "code",
      "source": [
        "# 12  Implement a code to find the second largest number in a given list of integers\n",
        "\n",
        "def second_largest(numbers):\n",
        "    # Remove duplicates by converting the list to a set\n",
        "    unique_numbers = set(numbers)\n",
        "\n",
        "    # If there are fewer than 2 unique numbers, return None\n",
        "    if len(unique_numbers) < 2:\n",
        "        return None\n",
        "\n",
        "    # Remove the largest number from the set\n",
        "    unique_numbers.remove(max(unique_numbers))\n",
        "\n",
        "    # The second largest number is now the maximum of the remaining numbers\n",
        "    return max(unique_numbers)\n",
        "\n",
        "# Example usage\n",
        "numbers = [5, 3, 9, 1, 6, 9, 3]\n",
        "result = second_largest(numbers)\n",
        "\n",
        "if result is not None:\n",
        "    print(\"The second largest number is:\", result)\n",
        "else:\n",
        "    print(\"There is no second largest number.\")\n"
      ],
      "metadata": {
        "colab": {
          "base_uri": "https://localhost:8080/"
        },
        "id": "yIsoDMl98Bwy",
        "outputId": "af68c4b1-d4cf-4d1c-9ef3-4d72d498e562"
      },
      "execution_count": 23,
      "outputs": [
        {
          "output_type": "stream",
          "name": "stdout",
          "text": [
            "The second largest number is: 6\n"
          ]
        }
      ]
    },
    {
      "cell_type": "code",
      "source": [
        "#13  Create a code to count the occurrences of each element in a list and return a dictionary with elements as\n",
        "# keys and their counts as values\n",
        "\n",
        "def count_occurrences(lst):\n",
        "    # Initialize an empty dictionary to store the counts\n",
        "    counts = {}\n",
        "\n",
        "    for element in lst:\n",
        "        # Increment the count for each element in the dictionary\n",
        "        counts[element] = counts.get(element, 0) + 1\n",
        "\n",
        "    return counts\n",
        "\n",
        "# Example usage\n",
        "my_list = [1, 2, 2, 3, 4, 3, 3, 5]\n",
        "result = count_occurrences(my_list)\n",
        "\n",
        "print(\"Element counts:\", result)\n",
        "\n"
      ],
      "metadata": {
        "colab": {
          "base_uri": "https://localhost:8080/"
        },
        "id": "zi_gf51__WZE",
        "outputId": "1fef422d-48c7-43cc-c7c9-71cf50936a57"
      },
      "execution_count": 24,
      "outputs": [
        {
          "output_type": "stream",
          "name": "stdout",
          "text": [
            "Element counts: {1: 1, 2: 2, 3: 3, 4: 1, 5: 1}\n"
          ]
        }
      ]
    },
    {
      "cell_type": "code",
      "source": [
        "#14  Write a code to reverse a list in-place without using any built-in reverse functions\n",
        "\n",
        "def reverse_list(lst):\n",
        "    # Use two-pointer technique to swap elements\n",
        "    left = 0\n",
        "    right = len(lst) - 1\n",
        "\n",
        "    while left < right:\n",
        "        # Swap the elements at left and right pointers\n",
        "        lst[left], lst[right] = lst[right], lst[left]\n",
        "\n",
        "        # Move the pointers towards the center\n",
        "        left += 1\n",
        "        right -= 1\n",
        "\n",
        "# Example usage\n",
        "my_list = [1, 2, 3, 4, 5]\n",
        "reverse_list(my_list)\n",
        "\n",
        "print(\"Reversed list:\", my_list)\n"
      ],
      "metadata": {
        "colab": {
          "base_uri": "https://localhost:8080/"
        },
        "id": "QpgyxvH6__EA",
        "outputId": "f88febb2-6603-4e7d-b7bd-780dd923edcb"
      },
      "execution_count": 25,
      "outputs": [
        {
          "output_type": "stream",
          "name": "stdout",
          "text": [
            "Reversed list: [5, 4, 3, 2, 1]\n"
          ]
        }
      ]
    },
    {
      "cell_type": "code",
      "source": [
        "#15  Implement a code to find and remove duplicates from a list while preserving the original order of\n",
        "#elements\n",
        "def remove_duplicates(lst):\n",
        "    # Initialize an empty set to track seen elements\n",
        "    seen = set()\n",
        "    # Initialize a new list to store unique elements in original order\n",
        "    result = []\n",
        "\n",
        "    for element in lst:\n",
        "        # Only add elements that have not been seen before\n",
        "        if element not in seen:\n",
        "            result.append(element)\n",
        "            seen.add(element)\n",
        "\n",
        "    return result\n",
        "\n",
        "# Example usage\n",
        "my_list = [1, 2, 3, 2, 4, 3, 5, 1]\n",
        "unique_list = remove_duplicates(my_list)\n",
        "\n",
        "print(\"List with duplicates removed:\", unique_list)\n"
      ],
      "metadata": {
        "colab": {
          "base_uri": "https://localhost:8080/"
        },
        "id": "tWNeAU1vAcst",
        "outputId": "35ce96c1-14b4-4d58-fa67-4785bbba2536"
      },
      "execution_count": 26,
      "outputs": [
        {
          "output_type": "stream",
          "name": "stdout",
          "text": [
            "List with duplicates removed: [1, 2, 3, 4, 5]\n"
          ]
        }
      ]
    },
    {
      "cell_type": "code",
      "source": [
        "# 16 Create a code to check if a given list is sorted (either in ascending or descending order) or not\n",
        "\n",
        "def is_sorted(lst):\n",
        "    # Check for ascending order\n",
        "    ascending = all(lst[i] <= lst[i + 1] for i in range(len(lst) - 1))\n",
        "    # Check for descending order\n",
        "    descending = all(lst[i] >= lst[i + 1] for i in range(len(lst) - 1))\n",
        "\n",
        "    # Return True if either ascending or descending is True\n",
        "    return ascending or descending\n",
        "\n",
        "# Example usage\n",
        "list1 = [1, 2, 3, 4, 5]\n",
        "list2 = [5, 4, 3, 2, 1]\n",
        "list3 = [1, 3, 2, 4, 5]\n",
        "\n",
        "print(\"List1 is sorted:\", is_sorted(list1))  # True (ascending)\n",
        "print(\"List2 is sorted:\", is_sorted(list2))  # True (descending)\n",
        "print(\"List3 is sorted:\", is_sorted(list3))  # False (unsorted)\n"
      ],
      "metadata": {
        "colab": {
          "base_uri": "https://localhost:8080/"
        },
        "id": "zOvFyZ_KA5aB",
        "outputId": "ad7e830c-2870-4d7e-fb8d-590c67268c74"
      },
      "execution_count": 27,
      "outputs": [
        {
          "output_type": "stream",
          "name": "stdout",
          "text": [
            "List1 is sorted: True\n",
            "List2 is sorted: True\n",
            "List3 is sorted: False\n"
          ]
        }
      ]
    },
    {
      "cell_type": "code",
      "source": [
        "# 17 Write a code to merge two sorted lists into a single sorted list\n",
        "\n",
        "def merge_sorted_lists(list1, list2):\n",
        "    merged_list = []\n",
        "    i, j = 0, 0\n",
        "\n",
        "    # Traverse both lists and add smaller element to the merged list\n",
        "    while i < len(list1) and j < len(list2):\n",
        "        if list1[i] < list2[j]:\n",
        "            merged_list.append(list1[i])\n",
        "            i += 1\n",
        "        else:\n",
        "            merged_list.append(list2[j])\n",
        "            j += 1\n",
        "\n",
        "    # Add remaining elements of list1, if any\n",
        "    while i < len(list1):\n",
        "        merged_list.append(list1[i])\n",
        "        i += 1\n",
        "\n",
        "    # Add remaining elements of list2, if any\n",
        "    while j < len(list2):\n",
        "        merged_list.append(list2[j])\n",
        "        j += 1\n",
        "\n",
        "    return merged_list\n",
        "\n",
        "# Example usage\n",
        "sorted_list1 = [1, 3, 5, 7]\n",
        "sorted_list2 = [2, 4, 6, 8]\n",
        "merged_list = merge_sorted_lists(sorted_list1, sorted_list2)\n",
        "\n",
        "print(\"Merged sorted list:\", merged_list)\n"
      ],
      "metadata": {
        "colab": {
          "base_uri": "https://localhost:8080/"
        },
        "id": "e8tMrqqaA7Xq",
        "outputId": "1489e5dd-1281-4735-c54d-98cdccbae401"
      },
      "execution_count": 28,
      "outputs": [
        {
          "output_type": "stream",
          "name": "stdout",
          "text": [
            "Merged sorted list: [1, 2, 3, 4, 5, 6, 7, 8]\n"
          ]
        }
      ]
    },
    {
      "cell_type": "code",
      "source": [
        "# 18  Implement a code to find the intersection of two given lists\n",
        "\n",
        "def find_intersection(list1, list2):\n",
        "    # Convert list2 to a set for faster lookup\n",
        "    set2 = set(list2)\n",
        "\n",
        "    # Use list comprehension to find elements in both lists\n",
        "    intersection = [item for item in list1 if item in set2]\n",
        "\n",
        "    return intersection\n",
        "\n",
        "# Example usage\n",
        "list1 = [1, 2, 3, 4, 5]\n",
        "list2 = [3, 4, 5, 6, 7]\n",
        "intersection = find_intersection(list1, list2)\n",
        "\n",
        "print(\"Intersection of lists:\", intersection)\n"
      ],
      "metadata": {
        "colab": {
          "base_uri": "https://localhost:8080/"
        },
        "id": "PKWGCy3BBrMJ",
        "outputId": "ed437fd1-5577-45bb-d39f-94defaf1c109"
      },
      "execution_count": 29,
      "outputs": [
        {
          "output_type": "stream",
          "name": "stdout",
          "text": [
            "Intersection of lists: [3, 4, 5]\n"
          ]
        }
      ]
    },
    {
      "cell_type": "code",
      "source": [
        "# 19  Create a code to find the union of two lists without duplicates\n",
        "\n",
        "def find_union(list1, list2):\n",
        "    # Convert both lists to sets and use union operation\n",
        "    union_set = set(list1).union(set(list2))\n",
        "\n",
        "    # Convert the result back to a list to maintain list data type\n",
        "    return list(union_set)\n",
        "\n",
        "# Example usage\n",
        "list1 = [1, 2, 3, 4, 5]\n",
        "list2 = [4, 5, 6, 7, 8]\n",
        "union = find_union(list1, list2)\n",
        "\n",
        "print(\"Union of lists without duplicates:\", union)\n"
      ],
      "metadata": {
        "colab": {
          "base_uri": "https://localhost:8080/"
        },
        "id": "HAMXUUo0B-Wz",
        "outputId": "9bf15a0f-34d3-47b9-a532-a1dff2b0366f"
      },
      "execution_count": 30,
      "outputs": [
        {
          "output_type": "stream",
          "name": "stdout",
          "text": [
            "Union of lists without duplicates: [1, 2, 3, 4, 5, 6, 7, 8]\n"
          ]
        }
      ]
    },
    {
      "cell_type": "code",
      "source": [
        "#20 Write a code to shuffle a given list randomly without using any built-in shuffle functions\n",
        "\n",
        "import random\n",
        "\n",
        "def shuffle_list(lst):\n",
        "    # Iterate over the list from the last element to the first\n",
        "    for i in range(len(lst) - 1, 0, -1):\n",
        "        # Generate a random index from 0 to i\n",
        "        j = random.randint(0, i)\n",
        "\n",
        "        # Swap the current element with the element at the random index\n",
        "        lst[i], lst[j] = lst[j], lst[i]\n",
        "\n",
        "# Example usage\n",
        "my_list = [1, 2, 3, 4, 5]\n",
        "shuffle_list(my_list)\n",
        "\n",
        "print(\"Shuffled list:\", my_list)\n"
      ],
      "metadata": {
        "colab": {
          "base_uri": "https://localhost:8080/"
        },
        "id": "NxAjVxuMCadM",
        "outputId": "3c46a037-7914-4a0b-bf52-782e2dacde6f"
      },
      "execution_count": 31,
      "outputs": [
        {
          "output_type": "stream",
          "name": "stdout",
          "text": [
            "Shuffled list: [3, 5, 1, 4, 2]\n"
          ]
        }
      ]
    },
    {
      "cell_type": "code",
      "source": [
        "# 21  Write a code that takes two tuples as input and returns a new tuple containing elements that are\n",
        "#common to both input tuples\n",
        "\n",
        "def common_elements(tuple1, tuple2):\n",
        "    # Convert both tuples to sets and find the intersection\n",
        "    common_set = set(tuple1).intersection(set(tuple2))\n",
        "\n",
        "    # Convert the result back to a tuple\n",
        "    return tuple(common_set)\n",
        "\n",
        "# Example usage\n",
        "tuple1 = (1, 2, 3, 4, 5)\n",
        "tuple2 = (4, 5, 6, 7, 8)\n",
        "common_tuple = common_elements(tuple1, tuple2)\n",
        "\n",
        "print(\"Common elements as a new tuple:\", common_tuple)\n"
      ],
      "metadata": {
        "colab": {
          "base_uri": "https://localhost:8080/"
        },
        "id": "5EavPARZCvmE",
        "outputId": "4884ba89-e746-4198-dcdb-5f66080f3b18"
      },
      "execution_count": 32,
      "outputs": [
        {
          "output_type": "stream",
          "name": "stdout",
          "text": [
            "Common elements as a new tuple: (4, 5)\n"
          ]
        }
      ]
    },
    {
      "source": [
        "# 22 Create a code that prompts the user to enter two sets of integers separated by commas. Then, print the\n",
        "#intersection of these two sets\n",
        "def get_set_from_input(prompt):\n",
        "    # Prompt the user and split the input by commas\n",
        "    # Use map to apply int to each element of the split string\n",
        "    # then convert it to a set\n",
        "    return set(map(int, input(prompt).split(',')))\n",
        "\n",
        "# Prompt the user for two sets of integers\n",
        "set1 = get_set_from_input(\"Enter the first set of integers, separated by commas: \")\n",
        "set2 = get_set_from_input(\"Enter the second set of integers, separated by commas: \")\n",
        "\n",
        "# Find the intersection of the two sets\n",
        "intersection = set1.intersection(set2)\n",
        "\n",
        "# Print the intersection\n",
        "print(\"Intersection of the two sets:\", intersection)"
      ],
      "cell_type": "code",
      "metadata": {
        "colab": {
          "base_uri": "https://localhost:8080/"
        },
        "id": "9LMP-jgiFSjy",
        "outputId": "f2f9a3fe-98ca-4756-c7df-22804ddf5345"
      },
      "execution_count": 36,
      "outputs": [
        {
          "output_type": "stream",
          "name": "stdout",
          "text": [
            "Enter the first set of integers, separated by commas: 1,2,3,4,5,6\n",
            "Enter the second set of integers, separated by commas: 5,6,7,8,9\n",
            "Intersection of the two sets: {5, 6}\n"
          ]
        }
      ]
    },
    {
      "cell_type": "code",
      "source": [
        "# 23  Write a code to concatenate two tuples. The function should take two tuples as input and return a new\n",
        "#tuple containing elements from both input tuples.\n",
        "\n",
        "def concatenate_tuples(tuple1, tuple2):\n",
        "    # Concatenate the two tuples using the + operator\n",
        "    return tuple1 + tuple2\n",
        "\n",
        "# Example usage\n",
        "tuple1 = (1, 2, 3)\n",
        "tuple2 = (4, 5, 6)\n",
        "result = concatenate_tuples(tuple1, tuple2)\n",
        "\n",
        "print(\"Concatenated tuple:\", result)\n"
      ],
      "metadata": {
        "colab": {
          "base_uri": "https://localhost:8080/"
        },
        "id": "dbgNI4sZFvNA",
        "outputId": "83f47cf0-6447-4fcf-adc3-8c2dfa0fb2c9"
      },
      "execution_count": 37,
      "outputs": [
        {
          "output_type": "stream",
          "name": "stdout",
          "text": [
            "Concatenated tuple: (1, 2, 3, 4, 5, 6)\n"
          ]
        }
      ]
    },
    {
      "cell_type": "code",
      "source": [
        "#24  Develop a code that prompts the user to input two sets of strings. Then, print the elements that are\n",
        "#present in the first set but not in the second set\n",
        "def get_set_from_input(prompt):\n",
        "    # Prompt the user and split the input by commas\n",
        "    return set(input(prompt).split(','))\n",
        "\n",
        "# Prompt the user for two sets of strings\n",
        "set1 = get_set_from_input(\"Enter the first set of strings, separated by commas: \")\n",
        "set2 = get_set_from_input(\"Enter the second set of strings, separated by commas: \")\n",
        "\n",
        "# Find elements in set1 but not in set2\n",
        "difference = set1 - set2\n",
        "\n",
        "# Print the difference\n",
        "print(\"Elements present in the first set but not in the second set:\", difference)\n"
      ],
      "metadata": {
        "colab": {
          "base_uri": "https://localhost:8080/"
        },
        "id": "pgasLbneGvu2",
        "outputId": "482c8a4a-d85a-4f34-90e7-d9703670b4f1"
      },
      "execution_count": 38,
      "outputs": [
        {
          "output_type": "stream",
          "name": "stdout",
          "text": [
            "Enter the first set of strings, separated by commas: \"r\",\"b\"\n",
            "Enter the second set of strings, separated by commas: \"t\",\"h\",\n",
            "Elements present in the first set but not in the second set: {'\"r\"', '\"b\"'}\n"
          ]
        }
      ]
    },
    {
      "cell_type": "code",
      "source": [
        "# 25 Create a code that takes a tuple and two integers as input. The function should return a new tuple\n",
        "#containing elements from the original tuple within the specified range of indices\n",
        "\n",
        "def slice_tuple(original_tuple, start_index, end_index):\n",
        "    # Return a new tuple sliced from the original tuple using the specified indices\n",
        "    return original_tuple[start_index:end_index]\n",
        "\n",
        "# Example usage\n",
        "input_tuple = (10, 20, 30, 40, 50, 60)\n",
        "start = int(input(\"Enter the start index: \"))\n",
        "end = int(input(\"Enter the end index: \"))\n",
        "\n",
        "result = slice_tuple(input_tuple, start, end)\n",
        "\n",
        "print(\"New tuple containing elements within the specified range:\", result)\n",
        "\n",
        "\n"
      ],
      "metadata": {
        "colab": {
          "base_uri": "https://localhost:8080/"
        },
        "id": "3nWHY26wHP-B",
        "outputId": "be0cdf0f-4647-4733-af1f-0ff69a447694"
      },
      "execution_count": 40,
      "outputs": [
        {
          "output_type": "stream",
          "name": "stdout",
          "text": [
            "Enter the start index: 0\n",
            "Enter the end index: 5\n",
            "New tuple containing elements within the specified range: (10, 20, 30, 40, 50)\n"
          ]
        }
      ]
    },
    {
      "cell_type": "code",
      "source": [
        "# 26 Write a code that prompts the user to input two sets of characters. Then, print the union of these two sets&\n",
        "\n",
        "def get_set_from_input(prompt):\n",
        "    # Prompt the user and split the input by commas\n",
        "    return set(input(prompt).split(','))\n",
        "\n",
        "# Prompt the user for two sets of characters\n",
        "set1 = get_set_from_input(\"Enter the first set of characters, separated by commas: \")\n",
        "set2 = get_set_from_input(\"Enter the second set of characters, separated by commas: \")\n",
        "\n",
        "# Find the union of the two sets\n",
        "union_set = set1.union(set2)\n",
        "\n",
        "# Print the union\n",
        "print(\"Union of the two sets:\", union_set)\n"
      ],
      "metadata": {
        "colab": {
          "base_uri": "https://localhost:8080/"
        },
        "id": "d5W6Ucg1Ln9V",
        "outputId": "4b72b0f7-e1b1-4e64-e616-f424484677f4"
      },
      "execution_count": 41,
      "outputs": [
        {
          "output_type": "stream",
          "name": "stdout",
          "text": [
            "Enter the first set of characters, separated by commas: r,t,y,u,\n",
            "Enter the second set of characters, separated by commas: d,f,g,u,y\n",
            "Union of the two sets: {'', 'y', 'g', 'd', 'f', 'r', 't', 'u'}\n"
          ]
        }
      ]
    },
    {
      "cell_type": "code",
      "source": [
        " # 27 Develop a code that takes a tuple of integers as input. The function should return the maximum and\n",
        " #minimum values from the tuple using tuple unpacking\n",
        "\n",
        " def find_max_min(input_tuple):\n",
        "    # Use built-in max and min functions to find max and min values\n",
        "    max_value = max(input_tuple)\n",
        "    min_value = min(input_tuple)\n",
        "\n",
        "    # Return the values as a tuple\n",
        "    return max_value, min_value\n",
        "\n",
        "# Example usag\n",
        "input_tuple = (10, 5, 20, 15, 25)\n",
        "max_val, min_val = find_max_min(input_tuple)\n",
        "\n",
        "print(\"Maximum value:\", max_val)\n",
        "print(\"Minimum value:\", min_val)\n"
      ],
      "metadata": {
        "colab": {
          "base_uri": "https://localhost:8080/"
        },
        "id": "qk9J_FT3MOjD",
        "outputId": "37de53f2-99fb-4ac8-e452-0868ac7201c5"
      },
      "execution_count": 47,
      "outputs": [
        {
          "output_type": "stream",
          "name": "stdout",
          "text": [
            "Maximum value: 25\n",
            "Minimum value: 5\n"
          ]
        }
      ]
    },
    {
      "cell_type": "code",
      "source": [
        "# 28  Create a code that defines two sets of integers. Then, print the union, intersection, and difference of these\n",
        "#two sets\n",
        "# Define two sets of integers\n",
        "set1 = {1, 2, 3, 4, 5}\n",
        "set2 = {4, 5, 6, 7, 8}\n",
        "\n",
        "# Calculate union, intersection, and difference\n",
        "union_set = set1.union(set2)\n",
        "intersection_set = set1.intersection(set2)\n",
        "difference_set = set1.difference(set2)\n",
        "\n",
        "# Print the results\n",
        "print(\"Set 1:\", set1)\n",
        "print(\"Set 2:\", set2)\n",
        "print(\"Union of the two sets:\", union_set)\n",
        "print(\"Intersection of the two sets:\", intersection_set)\n",
        "print(\"Difference (Set 1 - Set 2):\", difference_set)\n"
      ],
      "metadata": {
        "colab": {
          "base_uri": "https://localhost:8080/"
        },
        "id": "iYcm2ZrdMh61",
        "outputId": "fccc6ce0-1ab3-4252-8bd5-91b8d4f2b834"
      },
      "execution_count": 48,
      "outputs": [
        {
          "output_type": "stream",
          "name": "stdout",
          "text": [
            "Set 1: {1, 2, 3, 4, 5}\n",
            "Set 2: {4, 5, 6, 7, 8}\n",
            "Union of the two sets: {1, 2, 3, 4, 5, 6, 7, 8}\n",
            "Intersection of the two sets: {4, 5}\n",
            "Difference (Set 1 - Set 2): {1, 2, 3}\n"
          ]
        }
      ]
    },
    {
      "cell_type": "code",
      "source": [
        "# 29  Write a code that takes a tuple and an element as input. The function should return the count of\n",
        "#occurrences of the given element in the tuple\n",
        "\n",
        "def count_occurrences(input_tuple, element):\n",
        "    # Use the count method to find occurrences of the element\n",
        "    return input_tuple.count(element)\n",
        "\n",
        "# Example usage\n",
        "input_tuple = (1, 2, 3, 4, 5, 1, 2, 1)\n",
        "element = int(input(\"Enter the element to count: \"))\n",
        "\n",
        "count = count_occurrences(input_tuple, element)\n",
        "\n",
        "print(f\"The element {element} occurs {count} times in the tuple.\")\n"
      ],
      "metadata": {
        "colab": {
          "base_uri": "https://localhost:8080/"
        },
        "id": "ug3O-AenOyMx",
        "outputId": "06225a48-737e-4509-c1e2-a90c8a90b0b1"
      },
      "execution_count": 50,
      "outputs": [
        {
          "output_type": "stream",
          "name": "stdout",
          "text": [
            "Enter the element to count: 2\n",
            "The element 2 occurs 2 times in the tuple.\n"
          ]
        }
      ]
    },
    {
      "cell_type": "code",
      "source": [
        "#  30 Develop a code that prompts the user to input two sets of strings. Then, print the symmetric difference of\n",
        "#these two sets\n",
        "\n",
        "def get_set_from_input(prompt):\n",
        "    # Prompt the user and split the input by commas\n",
        "    return set(input(prompt).split(','))\n",
        "\n",
        "# Prompt the user for two sets of strings\n",
        "set1 = get_set_from_input(\"Enter the first set of strings, separated by commas: \")\n",
        "set2 = get_set_from_input(\"Enter the second set of strings, separated by commas: \")\n",
        "\n",
        "# Find the symmetric difference of the two sets\n",
        "symmetric_difference = set1.symmetric_difference(set2)\n",
        "\n",
        "# Print the symmetric difference\n",
        "print(\"Symmetric difference of the two sets:\", symmetric_difference)\n",
        "\n"
      ],
      "metadata": {
        "colab": {
          "base_uri": "https://localhost:8080/"
        },
        "id": "LP64ambqPM5Q",
        "outputId": "02c3321b-fb7c-4476-ea28-c131127430ae"
      },
      "execution_count": 52,
      "outputs": [
        {
          "output_type": "stream",
          "name": "stdout",
          "text": [
            "Enter the first set of strings, separated by commas: 1,2,3,4,5,6,7,8\n",
            "Enter the second set of strings, separated by commas: 1,3,5,6,7,8,9\n",
            "Symmetric difference of the two sets: {'9', '2', '4'}\n"
          ]
        }
      ]
    },
    {
      "cell_type": "code",
      "source": [
        "# 31  Write a code that takes a list of words as input and returns a dictionary where the keys are unique words\n",
        "#and the values are the frequencies of those words in the input list\n",
        "\n",
        "def word_frequencies(words):\n",
        "    frequency_dict = {}\n",
        "    for word in words:\n",
        "        # Increment the count for each word in the dictionary\n",
        "        frequency_dict[word] = frequency_dict.get(word, 0) + 1\n",
        "    return frequency_dict\n",
        "\n",
        "# Example usage\n",
        "input_words = input(\"Enter a list of words separated by spaces: \").split()\n",
        "result = word_frequencies(input_words)\n",
        "\n",
        "print(\"Word frequencies:\", result)\n"
      ],
      "metadata": {
        "colab": {
          "base_uri": "https://localhost:8080/"
        },
        "id": "uoa_E0czQVHb",
        "outputId": "260fd1ce-9619-4f72-9bb6-7b7eef5be8e2"
      },
      "execution_count": 53,
      "outputs": [
        {
          "output_type": "stream",
          "name": "stdout",
          "text": [
            "Enter a list of words separated by spaces: i am student of bca and am a smart student\n",
            "Word frequencies: {'i': 1, 'am': 2, 'student': 2, 'of': 1, 'bca': 1, 'and': 1, 'a': 1, 'smart': 1}\n"
          ]
        }
      ]
    },
    {
      "cell_type": "code",
      "source": [
        "# 32  Write a code that takes two dictionaries as input and merges them into a single dictionary. If there are\n",
        "#common keys, the values should be added together\n",
        "\n",
        "def merge_dictionaries(dict1, dict2):\n",
        "    # Create a new dictionary to hold the merged results\n",
        "    merged_dict = dict1.copy()  # Start with the first dictionary\n",
        "\n",
        "    for key, value in dict2.items():\n",
        "        if key in merged_dict:\n",
        "            # If the key is common, add the values\n",
        "            merged_dict[key] += value\n",
        "        else:\n",
        "            # If the key is not in the first dictionary, add it\n",
        "            merged_dict[key] = value\n",
        "\n",
        "    return merged_dict\n",
        "\n",
        "# Example usage\n",
        "dict1 = {'a': 1, 'b': 2, 'c': 3}\n",
        "dict2 = {'b': 3, 'c': 4, 'd': 5}\n",
        "\n",
        "result = merge_dictionaries(dict1, dict2)\n",
        "\n",
        "print(\"Merged dictionary:\", result)\n",
        "\n"
      ],
      "metadata": {
        "colab": {
          "base_uri": "https://localhost:8080/"
        },
        "id": "RGksZYCNRJOo",
        "outputId": "11a23d55-1c4a-4d87-9e03-c61f61fa1367"
      },
      "execution_count": 54,
      "outputs": [
        {
          "output_type": "stream",
          "name": "stdout",
          "text": [
            "Merged dictionary: {'a': 1, 'b': 5, 'c': 7, 'd': 5}\n"
          ]
        }
      ]
    },
    {
      "cell_type": "code",
      "source": [
        "# 33 Write a code to access a value in a nested dictionary. The function should take the dictionary and a list of\n",
        "#keys as input, and return the corresponding value. If any of the keys do not exist in the dictionary, the\n",
        "#function should return None\n",
        "\n",
        "def access_nested_dict(nested_dict, keys):\n",
        "    current_value = nested_dict\n",
        "    for key in keys:\n",
        "        if key in current_value:\n",
        "            current_value = current_value[key]\n",
        "        else:\n",
        "            return None  # Return None if the key does not exist\n",
        "    return current_value\n",
        "\n",
        "# Example usage\n",
        "nested_dictionary = {\n",
        "    'a': {\n",
        "        'b': {\n",
        "            'c': 10\n",
        "        }\n",
        "    },\n",
        "    'x': {\n",
        "        'y': 20\n",
        "    }\n",
        "}\n",
        "\n",
        "keys_to_access = ['a','b','c']  # Change this to test different keys\n",
        "result = access_nested_dict(nested_dictionary, keys_to_access)\n",
        "\n",
        "if result is not None:\n",
        "    print(f\"The value corresponding to the keys {keys_to_access} is: {result}\")\n",
        "else:\n",
        "    print(f\"One or more keys {keys_to_access} do not exist in the dictionary.\")\n"
      ],
      "metadata": {
        "colab": {
          "base_uri": "https://localhost:8080/"
        },
        "id": "Ml7L8pDxRtmR",
        "outputId": "068d4fb2-81b4-4698-d8dc-f15e15e85a4b"
      },
      "execution_count": 57,
      "outputs": [
        {
          "output_type": "stream",
          "name": "stdout",
          "text": [
            "The value corresponding to the keys ['a', 'b', 'c'] is: 10\n"
          ]
        }
      ]
    },
    {
      "cell_type": "code",
      "source": [
        "# 34  Write a code that takes a dictionary as input and returns a sorted version of it based on the values. You\n",
        "#can choose whether to sort in ascending or descending order\n",
        "def sort_dictionary_by_value(input_dict, descending=False):\n",
        "    # Sort the dictionary by values and return a new sorted dictionary\n",
        "    sorted_dict = dict(sorted(input_dict.items(), key=lambda item: item[1], reverse=descending))\n",
        "    return sorted_dict\n",
        "\n",
        "# Example usage\n",
        "input_dict = {\n",
        "    'apple': 5,\n",
        "    'banana': 2,\n",
        "    'cherry': 7,\n",
        "    'date': 4\n",
        "}\n",
        "\n",
        "# Choose sorting order\n",
        "sort_order = input(\"Sort in descending order? (yes/no): \").strip().lower() == 'yes'\n",
        "\n",
        "result = sort_dictionary_by_value(input_dict, descending=sort_order)\n",
        "\n",
        "print(\"Sorted dictionary:\", result)\n"
      ],
      "metadata": {
        "colab": {
          "base_uri": "https://localhost:8080/"
        },
        "id": "P2xyVGR2S3qs",
        "outputId": "5067330c-96dc-4691-ef2f-0cea7024aa32"
      },
      "execution_count": 58,
      "outputs": [
        {
          "output_type": "stream",
          "name": "stdout",
          "text": [
            "Sort in descending order? (yes/no): yes\n",
            "Sorted dictionary: {'cherry': 7, 'apple': 5, 'date': 4, 'banana': 2}\n"
          ]
        }
      ]
    },
    {
      "cell_type": "code",
      "source": [
        "# 35 & Write a code that inverts a dictionary, swapping keys and values. Ensure that the inverted dictionary\n",
        "#correctly handles cases where multiple keys have the same value by storing the keys as a list in the\n",
        "#inverted dictionary\n",
        "\n",
        "def invert_dictionary(input_dict):\n",
        "    inverted_dict = {}\n",
        "\n",
        "    for key, value in input_dict.items():\n",
        "        # If the value is already a key in inverted_dict, append the current key to the list\n",
        "        if value in inverted_dict:\n",
        "            inverted_dict[value].append(key)\n",
        "        else:\n",
        "            # Otherwise, create a new entry with the value as the key and the current key as a list\n",
        "            inverted_dict[value] = [key]\n",
        "\n",
        "    return inverted_dict\n",
        "\n",
        "# Example usage\n",
        "input_dict = {\n",
        "    'a': 1,\n",
        "    'b': 2,\n",
        "    'c': 1,\n",
        "    'd': 3,\n",
        "    'e': 2\n",
        "}\n",
        "\n",
        "result = invert_dictionary(input_dict)\n",
        "\n",
        "print(\"Inverted dictionary:\", result)\n",
        "\n"
      ],
      "metadata": {
        "colab": {
          "base_uri": "https://localhost:8080/"
        },
        "id": "20dCUEMhTqRC",
        "outputId": "79e28e2c-acd7-4034-97d0-3edb39716243"
      },
      "execution_count": 59,
      "outputs": [
        {
          "output_type": "stream",
          "name": "stdout",
          "text": [
            "Inverted dictionary: {1: ['a', 'c'], 2: ['b', 'e'], 3: ['d']}\n"
          ]
        }
      ]
    }
  ]
}