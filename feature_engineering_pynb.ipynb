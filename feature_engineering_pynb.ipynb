{
  "nbformat": 4,
  "nbformat_minor": 0,
  "metadata": {
    "colab": {
      "provenance": [],
      "authorship_tag": "ABX9TyOCWnOUDz7gpWGMnMJqMEZs",
      "include_colab_link": true
    },
    "kernelspec": {
      "name": "python3",
      "display_name": "Python 3"
    },
    "language_info": {
      "name": "python"
    }
  },
  "cells": [
    {
      "cell_type": "markdown",
      "metadata": {
        "id": "view-in-github",
        "colab_type": "text"
      },
      "source": [
        "<a href=\"https://colab.research.google.com/github/iam-rushi47/pw-study/blob/pw-study/feature_engineering_pynb.ipynb\" target=\"_parent\"><img src=\"https://colab.research.google.com/assets/colab-badge.svg\" alt=\"Open In Colab\"/></a>"
      ]
    },
    {
      "cell_type": "markdown",
      "source": [
        "# Feature Engineering Assignment"
      ],
      "metadata": {
        "id": "msOHojv9PTwk"
      }
    },
    {
      "cell_type": "markdown",
      "source": [
        "# Feature Engineering\n",
        "\n",
        "## 1. What is a parameter?\n",
        "- A **parameter** is a configuration variable inside the model that is estimated from the data.\n",
        "- In Machine Learning, parameters are **weights and biases** that the algorithm updates during training to minimize loss.\n",
        "\n",
        "---\n",
        "\n",
        "## 2. What is correlation?\n",
        "- **Correlation** is a statistical measure that indicates the **extent to which two variables change together**.\n",
        "- It ranges from **-1 to +1**:\n",
        "  - +1: Perfect positive correlation\n",
        "  - 0: No correlation\n",
        "  - -1: Perfect negative correlation\n",
        "\n",
        "---\n",
        "\n",
        "## 3. What does negative correlation mean?\n",
        "- **Negative correlation** means that **as one variable increases, the other decreases**.\n",
        "- Example: As **speed increases**, **travel time decreases**.\n",
        "\n",
        "---\n",
        "\n",
        "##4. Define Machine Learning. What are the main components in Machine Learning?\n",
        "- **Machine Learning (ML)** is a subset of AI where machines learn from data without being explicitly programmed.\n",
        "- **Main components**:\n",
        "  - **Data**\n",
        "  - **Model/Algorithm**\n",
        "  - **Loss Function**\n",
        "  - **Optimizer**\n",
        "  - **Training and Testing Process**\n",
        "\n",
        "---\n",
        "\n",
        "## 5. How does loss value help in determining whether the model is good or not?\n",
        "- **Loss value** quantifies the **error** between predicted and actual output.\n",
        "- A **lower loss** indicates a **better model**.\n",
        "- Helps in evaluating and tuning the model during training.\n",
        "\n",
        "---\n",
        "\n",
        "## 6. What are continuous and categorical variables?\n",
        "- **Continuous variables**: Numeric variables that can take **any value** (e.g., height, weight).\n",
        "- **Categorical variables**: Variables that represent **categories or groups** (e.g., gender, color).\n",
        "\n",
        "---\n",
        "\n",
        "## 7. How do we handle categorical variables in Machine Learning?\n",
        "### **Common techniques:**\n",
        "- **Label Encoding**\n",
        "- **One-Hot Encoding**\n",
        "- **Ordinal Encoding**\n",
        "- **Binary Encoding**\n",
        "\n",
        "These convert non-numeric data into **numerical form** suitable for ML models.\n",
        "\n",
        "---\n",
        "\n",
        "## 8. What do you mean by training and testing a dataset?\n",
        "- **Training set**: Used to **train the model** (fit the parameters).\n",
        "- **Testing set**: Used to **evaluate the model** on **unseen data**.\n",
        "\n",
        "---\n",
        "\n",
        "## 9. What is `sklearn.preprocessing`?\n",
        "- A **Scikit-learn module** for preprocessing data.\n",
        "- Includes:\n",
        "  - **Scaling** (StandardScaler, MinMaxScaler)\n",
        "  - **Encoding** (LabelEncoder, OneHotEncoder)\n",
        "  - **Imputation**, binarization, etc.\n",
        "\n",
        "---\n",
        "\n",
        "### 10. What is a Test set?\n",
        "- The **test set** is a portion of data used to **evaluate** the performance of a trained model.\n",
        "- Not used in training to ensure **unbiased** evaluation.\n",
        "\n",
        "---\n",
        "\n",
        "##11. How do we split data for model fitting (training and testing) in Python?\n",
        "\n",
        "```python\n",
        "from sklearn.model_selection import train_test_split\n",
        "X_train, X_test, y_train, y_test = train_test_split(X, y, test_size=0.2, random_state=42)\n"
      ],
      "metadata": {
        "id": "imH0U2dcn75-"
      }
    },
    {
      "cell_type": "code",
      "execution_count": 1,
      "metadata": {
        "id": "Wq0TqpRFN3eC",
        "colab": {
          "base_uri": "https://localhost:8080/",
          "height": 487
        },
        "outputId": "e6d0ab15-f6ac-4818-9527-4dda9e34d3b5"
      },
      "outputs": [
        {
          "output_type": "stream",
          "name": "stdout",
          "text": [
            "             age    income\n",
            "age     1.000000  0.989595\n",
            "income  0.989595  1.000000\n"
          ]
        },
        {
          "output_type": "display_data",
          "data": {
            "text/plain": [
              "<Figure size 640x480 with 2 Axes>"
            ],
            "image/png": "[encoded data removed]"
          },
          "metadata": {}
        }
      ],
      "source": [
        "\n",
        "\n",
        "## 12. How can you find correlation between variables in Python?**\n",
        "\n",
        "\n",
        "import pandas as pd\n",
        "import seaborn as sns\n",
        "import matplotlib.pyplot as plt\n",
        "\n",
        "# Sample DataFrame\n",
        "df = pd.DataFrame({\n",
        "    'age': [25, 32, 47, 54],\n",
        "    'income': [50000, 60000, 75000, 90000]\n",
        "})\n",
        "\n",
        "# Compute correlation\n",
        "correlation_matrix = df.corr()\n",
        "print(correlation_matrix)\n",
        "\n",
        "# Visualize correlation matrix\n",
        "sns.heatmap(correlation_matrix, annot=True)\n",
        "plt.show()\n"
      ]
    },
    {
      "cell_type": "markdown",
      "source": [
        "##13. What is causation? Explain difference between correlation and causation with an example.\n",
        "-\n",
        "Causation implies that one variable directly influences the other.\n",
        "\n",
        "- Correlation means two variables have a statistical relationship but not necessarily a causal one.\n",
        "\n",
        "-Example:\n",
        "\n",
        "  - Correlation: Ice cream sales and drowning rates increase in summer.\n",
        "\n",
        "  - Causation: Higher temperatures cause both (not ice cream causing drowning)."
      ],
      "metadata": {
        "id": "w9FqtKnlpdNJ"
      }
    },
    {
      "cell_type": "markdown",
      "source": [
        "##14. What is an Optimizer? What are different types of optimizers? Explain each with an example.\n",
        "-\n",
        "Optimizer: A method to adjust the model's weights to minimize the loss function.\n",
        "\n",
        "Common Types of Optimizers:\n",
        "SGD (Stochastic Gradient Descent) – updates weights for each training example.\n",
        "\n",
        "Adam – adaptive learning rate; combines RMSprop + momentum.\n",
        "\n",
        "RMSprop – good for non-stationary objectives.\n",
        "\n",
        "Adagrad – adapts learning rate for each parameter.\n",
        "\n",
        "\n",
        "    import tensorflow as tf\n",
        "    model.compile(optimizer=tf.keras.optimizers.Adam(learning_rate=0.001),\n",
        "              loss='mse',\n",
        "              metrics=['mae'])"
      ],
      "metadata": {
        "id": "hQu_Mjebp-Q8"
      }
    },
    {
      "cell_type": "markdown",
      "source": [
        "##15. What is sklearn.linear_model?\n",
        "-\n",
        "A module in Scikit-learn containing linear models:\n",
        "\n",
        " - LinearRegression\n",
        "\n",
        " - LogisticRegression\n",
        "\n",
        " - Ridge, Lasso, etc.\n",
        "\n",
        "\n",
        "    from sklearn.linear_model import LinearRegression\n",
        "    model = LinearRegression()\n",
        "\n",
        "##16. What does model.fit() do? What arguments must be given?\n",
        "-\n",
        "\n",
        "Trains the model on training data.\n",
        "\n",
        "\n",
        "    model.fit(X_train, y_train)\n",
        "Arguments:\n",
        "\n",
        " - X_train: Features\n",
        "\n",
        " - y_train: Target values\n",
        "\n",
        "##17. What does model.predict() do? What arguments must be given?\n",
        "-\n",
        "Makes predictions using the trained model.\n",
        "\n",
        "\n",
        "predictions = model.predict(X_test)\n",
        "Arguments:\n",
        "\n",
        "X_test: Features for which predictions are needed\n",
        "\n",
        "##18. What are continuous and categorical variables?\n",
        "-\n",
        "Continuous variables: Can take any numeric value (e.g., age, weight).\n",
        "\n",
        "Categorical variables: Represent groups or categories (e.g., gender, color).\n",
        "\n",
        "##19. What is feature scaling? How does it help in Machine Learning?\n",
        "-\n",
        "Feature scaling standardizes feature values to a common range.\n",
        "\n",
        "Helps ML algorithms that are sensitive to feature magnitudes, like:\n",
        "\n",
        "KNN\n",
        "\n",
        "SVM\n",
        "\n",
        "Gradient Descent–based models\n",
        "\n",
        "##20. How do we perform scaling in Python?\n",
        "-\n",
        "\n",
        "    from sklearn.preprocessing import StandardScaler\n",
        "\n",
        "    scaler = StandardScaler()\n",
        "    X_scaled = scaler.fit_transform(X)\n",
        "Other scalers:\n",
        "\n",
        "\n",
        "    from sklearn.preprocessing import MinMaxScaler\n",
        "    scaler = MinMaxScaler()\n",
        "##21. What is sklearn.preprocessing?\n",
        "-\n",
        "A Scikit-learn module for data preprocessing:\n",
        "\n",
        "Scaling: StandardScaler, MinMaxScaler\n",
        "\n",
        "Encoding: LabelEncoder, OneHotEncoder\n",
        "\n",
        "Imputation, normalization, etc.\n",
        "\n",
        "##22. How do we split data for model fitting (training and testing) in Python?\n",
        "-\n",
        "    sklearn.model_selection import train_test_split\n",
        "\n",
        "    X_train, X_test, y_train, y_test = train_test_split(\n",
        "    X, y, test_size=0.2, random_state=42)\n",
        "##23. Explain data encoding?\n",
        "-\n",
        "Converts categorical data to numerical format for ML models.\n",
        "\n",
        "Common techniques:\n",
        "Label Encoding – Converts categories to integers\n",
        "\n",
        "One-Hot Encoding – Creates binary columns for each category\n",
        "\n",
        "\n",
        "    from sklearn.preprocessing import OneHotEncoder\n",
        "\n",
        "    encoder = OneHotEncoder()\n",
        "    X_encoded = encoder.fit_transform(X[['category_column']]).toarray()\n",
        "\n"
      ],
      "metadata": {
        "id": "FD6EUsw7qgg5"
      }
    },
    {
      "cell_type": "code",
      "source": [],
      "metadata": {
        "id": "dA_yPKFJpVE3"
      },
      "execution_count": null,
      "outputs": []
    }
  ]
}