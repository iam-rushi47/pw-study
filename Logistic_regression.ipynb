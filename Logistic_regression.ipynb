{
  "nbformat": 4,
  "nbformat_minor": 0,
  "metadata": {
    "colab": {
      "provenance": [],
      "authorship_tag": "ABX9TyNr08/YENiI6JGjtdEf5om0",
      "include_colab_link": true
    },
    "kernelspec": {
      "name": "python3",
      "display_name": "Python 3"
    },
    "language_info": {
      "name": "python"
    }
  },
  "cells": [
    {
      "cell_type": "markdown",
      "metadata": {
        "id": "view-in-github",
        "colab_type": "text"
      },
      "source": [
        "<a href=\"https://colab.research.google.com/github/iam-rushi47/pw-study/blob/pw-study/Logistic_regression.ipynb\" target=\"_parent\"><img src=\"https://colab.research.google.com/assets/colab-badge.svg\" alt=\"Open In Colab\"/></a>"
      ]
    },
    {
      "cell_type": "markdown",
      "source": [
        "## thereotical Solution\n",
        "\n",
        "---\n",
        "\n",
        "### **1. What is Logistic Regression, and how does it differ from Linear Regression?**\n",
        "- **Logistic Regression** is a classification algorithm used to predict categorical outcomes (e.g., 0 or 1).\n",
        "- **Linear Regression** predicts continuous values.\n",
        "- Logistic Regression uses a **sigmoid function** to squash outputs between 0 and 1, enabling classification.\n",
        "\n",
        "---\n",
        "\n",
        "### **2. What is the mathematical equation of Logistic Regression?**\n",
        "\\[\n",
        "P(y=1|x) = \\frac{1}{1 + e^{-(w^T x + b)}}\n",
        "\\]\n",
        "\n",
        "Where:  \n",
        "- \\( x \\) = input features  \n",
        "- \\( w \\) = weights  \n",
        "- \\( b \\) = bias/intercept\n",
        "\n",
        "---\n",
        "\n",
        "### **3. Why do we use the Sigmoid function in Logistic Regression?**\n",
        "- It **maps real-valued inputs to [0,1]**, making it suitable for probability prediction.\n",
        "- It helps us interpret the output as a **probability** of the positive class.\n",
        "\n",
        "---\n",
        "\n",
        "### **4. What is the cost function of Logistic Regression?**\n",
        "The **Log Loss** or **Binary Cross-Entropy**:\n",
        "\\[\n",
        "J(\\theta) = - \\frac{1}{m} \\sum_{i=1}^{m} \\left[ y^{(i)} \\log(h_\\theta(x^{(i)})) + (1 - y^{(i)}) \\log(1 - h_\\theta(x^{(i)})) \\right]\n",
        "\\]\n",
        "\n",
        "---\n",
        "\n",
        "### **5. What is Regularization in Logistic Regression? Why is it needed?**\n",
        "- **Regularization** adds a penalty to the cost function to reduce model complexity and **prevent overfitting**.\n",
        "- Common types: **L1 (Lasso)** and **L2 (Ridge)** regularization.\n",
        "\n",
        "---\n",
        "\n",
        "### **6. Explain the difference between Lasso, Ridge, and Elastic Net Regression**\n",
        "- **Lasso (L1)**: Shrinks some coefficients to 0 (feature selection).\n",
        "- **Ridge (L2)**: Shrinks coefficients smoothly (no feature elimination).\n",
        "- **Elastic Net**: Combination of L1 and L2 regularization.\n",
        "\n",
        "---\n",
        "\n",
        "### **7. When should we use Elastic Net instead of Lasso or Ridge?**\n",
        "- Use **Elastic Net** when:\n",
        "  - There are **many correlated features**.\n",
        "  - We want the **sparsity** of Lasso and the **stability** of Ridge.\n",
        "\n",
        "---\n",
        "\n",
        "### **8. What is the impact of the regularization parameter (λ) in Logistic Regression?**\n",
        "- **High λ**: Increases penalty → simpler model → underfitting.\n",
        "- **Low λ**: Less penalty → more complex model → overfitting risk.\n",
        "\n",
        "---\n",
        "\n",
        "### **9. What are the key assumptions of Logistic Regression?**\n",
        "- Linear relationship between **independent variables and the log-odds**.\n",
        "- No or little **multicollinearity**.\n",
        "- Large sample size.\n",
        "- Independent observations.\n",
        "\n",
        "---\n",
        "\n",
        "### **10. What are some alternatives to Logistic Regression for classification tasks?**\n",
        "- **Decision Trees**\n",
        "- **Random Forest**\n",
        "- **Support Vector Machines**\n",
        "- **Naive Bayes**\n",
        "- **k-Nearest Neighbors**\n",
        "- **Neural Networks**\n",
        "\n",
        "---\n",
        "\n",
        "### **11. What are Classification Evaluation Metrics?**\n",
        "- **Accuracy**\n",
        "- **Precision**\n",
        "- **Recall**\n",
        "- **F1 Score**\n",
        "- **ROC-AUC Score**\n",
        "- **Confusion Matrix**\n",
        "\n",
        "---\n",
        "\n",
        "### **12. How does class imbalance affect Logistic Regression?**\n",
        "- Model may become **biased toward majority class**.\n",
        "- Metrics like **accuracy** can be misleading.\n",
        "- Use **class weights** or **resampling** (SMOTE, undersampling).\n",
        "\n",
        "---\n",
        "\n",
        "### **13. What is Hyperparameter Tuning in Logistic Regression?**\n",
        "- Adjusting parameters like:\n",
        "  - **Regularization strength (C)**\n",
        "  - **Solver type**\n",
        "  - **Penalty (L1, L2)**\n",
        "- Done via **Grid Search** or **Random Search** with **Cross-Validation**.\n",
        "\n",
        "---\n",
        "\n",
        "### **14. What are different solvers in Logistic Regression? Which one should be used?**\n",
        "- `liblinear`: Good for small datasets (supports L1).\n",
        "- `saga`: Supports L1, L2, Elastic Net (good for large datasets).\n",
        "- `newton-cg`, `lbfgs`: Only L2 penalty, good for multiclass.\n",
        "- **Recommendation**:\n",
        "  - Use `saga` for **large** data with **Elastic Net**.\n",
        "  - Use `liblinear` for **binary**, small data with **L1**.\n",
        "\n",
        "---\n",
        "\n",
        "### **15. How is Logistic Regression extended for multiclass classification?**\n",
        "- **One-vs-Rest (OvR)**: Trains one classifier per class.\n",
        "- **Softmax (Multinomial Logistic Regression)**: Generalizes sigmoid for multi-class probabilities.\n",
        "\n",
        "---\n",
        "\n",
        "### **16. What are the advantages and disadvantages of Logistic Regression?**\n",
        "\n",
        "**Advantages**:\n",
        "- Simple and interpretable.\n",
        "- Fast to train.\n",
        "- Works well with linearly separable classes.\n",
        "\n",
        "**Disadvantages**:\n",
        "- Limited to linear decision boundaries.\n",
        "- Struggles with non-linearity unless features are engineered.\n",
        "\n",
        "---\n",
        "\n",
        "### 17. What are some use cases of Logistic Regression?**\n",
        "- **Email spam detection**\n",
        "- **Medical diagnosis (e.g., cancer detection)**\n",
        "- **Credit risk modeling**\n",
        "- **Customer churn prediction**\n",
        "\n",
        "---\n",
        "\n",
        "### 18. What is the difference between Softmax Regression and Logistic Regression?**\n",
        "- **Logistic Regression**: Binary classification using **sigmoid**.\n",
        "- **Softmax Regression**: Multiclass classification using **softmax** function.\n",
        "\n",
        "---\n",
        "\n",
        "### 19. How do we choose between One-vs-Rest (OvR) and Softmax for multiclass classification?**\n",
        "- Use **OvR**:\n",
        "  - When using `liblinear` or if interpretability is key.\n",
        "- Use **Softmax**:\n",
        "  - For **true multiclass** probability outputs.\n",
        "  - More efficient when classes are mutually exclusive.\n",
        "\n",
        "---\n",
        "\n",
        "### 20. How do we interpret coefficients in Logistic Regression?**\n",
        "- Each coefficient represents the **log odds change** for a 1-unit change in the predictor.\n",
        "- Exponentiated coefficients (`exp(coef)`) show **odds ratio**.\n",
        "  - If \\( \\text{exp}(w_i) = 2 \\), then a 1-unit increase in \\( x_i \\) **doubles** the odds.\n",
        "\n",
        "---\n",
        "\n"
      ],
      "metadata": {
        "id": "Dg7yMK3EYqZZ"
      }
    },
    {
      "cell_type": "markdown",
      "source": [
        "## Practical Solutions"
      ],
      "metadata": {
        "id": "5nPn429mkm_4"
      }
    },
    {
      "cell_type": "code",
      "source": [
        "#1Write a Python program that loads a dataset, splits it into training and testing sets, applies Logistic\n",
        "#Regression, and prints the model accuracyC\n",
        "\n",
        "from sklearn.datasets import load_iris\n",
        "from sklearn.linear_model import LogisticRegression\n",
        "from sklearn.model_selection import train_test_split\n",
        "from sklearn.metrics import accuracy_score\n",
        "\n",
        "data = load_iris()\n",
        "X_train, X_test, y_train, y_test = train_test_split(data.data, data.target, test_size=0.3, random_state=42)\n",
        "\n",
        "model = LogisticRegression(max_iter=200)\n",
        "model.fit(X_train, y_train)\n",
        "#1Write a Python program that loads a dataset, splits it into training and testing sets, applies Logistic\n",
        "#Regression, and prints the model accuracyC\n",
        "\n",
        "from sklearn.datasets import load_iris\n",
        "from sklearn.linear_model import LogisticRegression\n",
        "from sklearn.model_selection import train_test_split\n",
        "from sklearn.metrics import accuracy_score\n",
        "\n",
        "data = load_iris()\n",
        "X_train, X_test, y_train, y_test = train_test_split(data.data, data.target, test_size=0.3, random_state=42)\n",
        "\n",
        "model = LogisticRegression(max_iter=200)\n",
        "model.fit(X_train, y_train)\n",
        "y_pred = model.predict(X_test)\n",
        "\n",
        "print(\"Accuracy:\", accuracy_score(y_test, y_pred))"
      ],
      "metadata": {
        "colab": {
          "base_uri": "https://localhost:8080/"
        },
        "id": "f57aGstHd_0j",
        "outputId": "d2f146c5-385f-425d-dd3f-22a05738dc11"
      },
      "execution_count": null,
      "outputs": [
        {
          "output_type": "stream",
          "name": "stdout",
          "text": [
            "Accuracy: 1.0\n"
          ]
        }
      ]
    },
    {
      "cell_type": "code",
      "source": [
        "#2 Write a Python program to apply L1 regularization (Lasso) on a dataset using LogisticRegression(penalty='l1')\n",
        " #and print the model accuracyC\n",
        "\n",
        "model = LogisticRegression(penalty='l1', solver='liblinear', max_iter=200)\n",
        "model.fit(X_train, y_train)\n",
        "print(\"Accuracy with L1 regularization:\", model.score(X_test, y_test))\n"
      ],
      "metadata": {
        "colab": {
          "base_uri": "https://localhost:8080/"
        },
        "id": "Mw6-_ceJeH9A",
        "outputId": "b8f38b47-5d97-4264-c8ae-fdc9754b5a59"
      },
      "execution_count": null,
      "outputs": [
        {
          "output_type": "stream",
          "name": "stdout",
          "text": [
            "Accuracy with L1 regularization: 1.0\n"
          ]
        }
      ]
    },
    {
      "cell_type": "code",
      "source": [
        "#3Write a Python program to train Logistic Regression with L2 regularization (Ridge) using\n",
        "#LogisticRegression(penalty='l2'). Print model accuracy and coefficientsC\n",
        "\n",
        "model = LogisticRegression(penalty='l2', solver='liblinear', max_iter=200)\n",
        "model.fit(X_train, y_train)\n",
        "print(\"Accuracy with L2 regularization:\", model.score(X_test, y_test))\n",
        "print(\"Coefficients:\", model.coef_)\n"
      ],
      "metadata": {
        "colab": {
          "base_uri": "https://localhost:8080/"
        },
        "id": "EurSRjfteLlQ",
        "outputId": "897d1bf7-697b-4099-9e69-2b2e79ba4eec"
      },
      "execution_count": null,
      "outputs": [
        {
          "output_type": "stream",
          "name": "stdout",
          "text": [
            "Accuracy with L2 regularization: 0.9777777777777777\n",
            "Coefficients: [[ 0.36479402  1.35499766 -2.09628559 -0.92154751]\n",
            " [ 0.4808915  -1.58463288  0.3937527  -1.09224057]\n",
            " [-1.5286415  -1.43244729  2.3048277   2.08584535]]\n"
          ]
        }
      ]
    },
    {
      "cell_type": "code",
      "source": [
        "#4 Write a Python program to train Logistic Regression with Elastic Net Regularization (penalty='elasticnet')C\n",
        "\n",
        "model = LogisticRegression(penalty='elasticnet', solver='saga', l1_ratio=0.5, max_iter=200)\n",
        "model.fit(X_train, y_train)\n",
        "print(\"Accuracy with Elastic Net:\", model.score(X_test, y_test))\n"
      ],
      "metadata": {
        "colab": {
          "base_uri": "https://localhost:8080/"
        },
        "id": "mcS6i8j-ePFv",
        "outputId": "4d3c1f88-bdfd-40d7-ef72-26102bfc9a6d"
      },
      "execution_count": null,
      "outputs": [
        {
          "output_type": "stream",
          "name": "stdout",
          "text": [
            "Accuracy with Elastic Net: 1.0\n"
          ]
        },
        {
          "output_type": "stream",
          "name": "stderr",
          "text": [
            "/usr/local/lib/python3.11/dist-packages/sklearn/linear_model/_sag.py:348: ConvergenceWarning: The max_iter was reached which means the coef_ did not converge\n",
            "  warnings.warn(\n"
          ]
        }
      ]
    },
    {
      "cell_type": "code",
      "source": [
        "#5 Write a Python program to train a Logistic Regression model for multiclass classification using multi_class='ovr'C\n",
        "\n",
        "model = LogisticRegression(multi_class='ovr', solver='liblinear', max_iter=200)\n",
        "model.fit(X_train, y_train)\n",
        "print(\"Multiclass OvR Accuracy:\", model.score(X_test, y_test))\n"
      ],
      "metadata": {
        "colab": {
          "base_uri": "https://localhost:8080/"
        },
        "id": "_xIKIcWFeTDI",
        "outputId": "de41790e-41af-4c84-d19d-16d9672584d1"
      },
      "execution_count": null,
      "outputs": [
        {
          "output_type": "stream",
          "name": "stdout",
          "text": [
            "Multiclass OvR Accuracy: 0.9777777777777777\n"
          ]
        },
        {
          "output_type": "stream",
          "name": "stderr",
          "text": [
            "/usr/local/lib/python3.11/dist-packages/sklearn/linear_model/_logistic.py:1256: FutureWarning: 'multi_class' was deprecated in version 1.5 and will be removed in 1.7. Use OneVsRestClassifier(LogisticRegression(..)) instead. Leave it to its default value to avoid this warning.\n",
            "  warnings.warn(\n"
          ]
        }
      ]
    },
    {
      "cell_type": "code",
      "source": [
        "#6 Write a Python program to apply GridSearchCV to tune the hyperparameters (C and penalty) of Logistic Regression. Print the best parameters and accuracyC\n",
        "\n",
        "\n",
        "from sklearn.model_selection import GridSearchCV\n",
        "\n",
        "param_grid = {'C': [0.1, 1, 10], 'penalty': ['l1', 'l2'], 'solver': ['liblinear']}\n",
        "grid = GridSearchCV(LogisticRegression(max_iter=200), param_grid, cv=5)\n",
        "grid.fit(X_train, y_train)\n",
        "\n",
        "print(\"Best Parameters:\", grid.best_params_)\n",
        "print(\"Best Accuracy:\", grid.best_score_)\n"
      ],
      "metadata": {
        "colab": {
          "base_uri": "https://localhost:8080/"
        },
        "id": "V30r-xcCeW-p",
        "outputId": "8f283467-14f1-4ad4-98ec-2b941cadd8a7"
      },
      "execution_count": null,
      "outputs": [
        {
          "output_type": "stream",
          "name": "stdout",
          "text": [
            "Best Parameters: {'C': 10, 'penalty': 'l2', 'solver': 'liblinear'}\n",
            "Best Accuracy: 0.9523809523809523\n"
          ]
        }
      ]
    },
    {
      "cell_type": "code",
      "source": [
        "#7 Write a Python program to evaluate Logistic Regression using Stratified K-Fold Cross-Validation. Print the average accuracyC\n",
        "from sklearn.model_selection import StratifiedKFold, cross_val_score\n",
        "\n",
        "skf = StratifiedKFold(n_splits=5)\n",
        "scores = cross_val_score(LogisticRegression(max_iter=200), data.data, data.target, cv=skf)\n",
        "print(\"Average Accuracy:\", scores.mean())\n"
      ],
      "metadata": {
        "colab": {
          "base_uri": "https://localhost:8080/"
        },
        "id": "VCen0Bh4eanc",
        "outputId": "5d664e5f-e08f-4356-804d-a4265f93cb2e"
      },
      "execution_count": null,
      "outputs": [
        {
          "output_type": "stream",
          "name": "stdout",
          "text": [
            "Average Accuracy: 0.9733333333333334\n"
          ]
        }
      ]
    },
    {
      "cell_type": "code",
      "source": [
        "from google.colab import files\n",
        "uploaded = files.upload()\n",
        "\n",
        "\n"
      ],
      "metadata": {
        "colab": {
          "base_uri": "https://localhost:8080/",
          "height": 72
        },
        "id": "WJJDEBLBi2H9",
        "outputId": "56898e5e-6e26-47f2-ba6e-b9716efb9f28"
      },
      "execution_count": null,
      "outputs": [
        {
          "output_type": "display_data",
          "data": {
            "text/plain": [
              "<IPython.core.display.HTML object>"
            ],
            "text/html": [
              "\n",
              "     <input type=\"file\" id=\"files-792e7423-8c53-459b-9e15-77d960c4c493\" name=\"files[]\" multiple disabled\n",
              "        style=\"border:none\" />\n",
              "     <output id=\"result-792e7423-8c53-459b-9e15-77d960c4c493\">\n",
              "      Upload widget is only available when the cell has been executed in the\n",
              "      current browser session. Please rerun this cell to enable.\n",
              "      </output>\n",
              "      <script>// Copyright 2017 Google LLC\n",
              "//\n",
              "// Licensed under the Apache License, Version 2.0 (the \"License\");\n",
              "// you may not use this file except in compliance with the License.\n",
              "// You may obtain a copy of the License at\n",
              "//\n",
              "//      http://www.apache.org/licenses/LICENSE-2.0\n",
              "//\n",
              "// Unless required by applicable law or agreed to in writing, software\n",
              "// distributed under the License is distributed on an \"AS IS\" BASIS,\n",
              "// WITHOUT WARRANTIES OR CONDITIONS OF ANY KIND, either express or implied.\n",
              "// See the License for the specific language governing permissions and\n",
              "// limitations under the License.\n",
              "\n",
              "/**\n",
              " * @fileoverview Helpers for google.colab Python module.\n",
              " */\n",
              "(function(scope) {\n",
              "function span(text, styleAttributes = {}) {\n",
              "  const element = document.createElement('span');\n",
              "  element.textContent = text;\n",
              "  for (const key of Object.keys(styleAttributes)) {\n",
              "    element.style[key] = styleAttributes[key];\n",
              "  }\n",
              "  return element;\n",
              "}\n",
              "\n",
              "// Max number of bytes which will be uploaded at a time.\n",
              "const MAX_PAYLOAD_SIZE = 100 * 1024;\n",
              "\n",
              "function _uploadFiles(inputId, outputId) {\n",
              "  const steps = uploadFilesStep(inputId, outputId);\n",
              "  const outputElement = document.getElementById(outputId);\n",
              "  // Cache steps on the outputElement to make it available for the next call\n",
              "  // to uploadFilesContinue from Python.\n",
              "  outputElement.steps = steps;\n",
              "\n",
              "  return _uploadFilesContinue(outputId);\n",
              "}\n",
              "\n",
              "// This is roughly an async generator (not supported in the browser yet),\n",
              "// where there are multiple asynchronous steps and the Python side is going\n",
              "// to poll for completion of each step.\n",
              "// This uses a Promise to block the python side on completion of each step,\n",
              "// then passes the result of the previous step as the input to the next step.\n",
              "function _uploadFilesContinue(outputId) {\n",
              "  const outputElement = document.getElementById(outputId);\n",
              "  const steps = outputElement.steps;\n",
              "\n",
              "  const next = steps.next(outputElement.lastPromiseValue);\n",
              "  return Promise.resolve(next.value.promise).then((value) => {\n",
              "    // Cache the last promise value to make it available to the next\n",
              "    // step of the generator.\n",
              "    outputElement.lastPromiseValue = value;\n",
              "    return next.value.response;\n",
              "  });\n",
              "}\n",
              "\n",
              "/**\n",
              " * Generator function which is called between each async step of the upload\n",
              " * process.\n",
              " * @param {string} inputId Element ID of the input file picker element.\n",
              " * @param {string} outputId Element ID of the output display.\n",
              " * @return {!Iterable<!Object>} Iterable of next steps.\n",
              " */\n",
              "function* uploadFilesStep(inputId, outputId) {\n",
              "  const inputElement = document.getElementById(inputId);\n",
              "  inputElement.disabled = false;\n",
              "\n",
              "  const outputElement = document.getElementById(outputId);\n",
              "  outputElement.innerHTML = '';\n",
              "\n",
              "  const pickedPromise = new Promise((resolve) => {\n",
              "    inputElement.addEventListener('change', (e) => {\n",
              "      resolve(e.target.files);\n",
              "    });\n",
              "  });\n",
              "\n",
              "  const cancel = document.createElement('button');\n",
              "  inputElement.parentElement.appendChild(cancel);\n",
              "  cancel.textContent = 'Cancel upload';\n",
              "  const cancelPromise = new Promise((resolve) => {\n",
              "    cancel.onclick = () => {\n",
              "      resolve(null);\n",
              "    };\n",
              "  });\n",
              "\n",
              "  // Wait for the user to pick the files.\n",
              "  const files = yield {\n",
              "    promise: Promise.race([pickedPromise, cancelPromise]),\n",
              "    response: {\n",
              "      action: 'starting',\n",
              "    }\n",
              "  };\n",
              "\n",
              "  cancel.remove();\n",
              "\n",
              "  // Disable the input element since further picks are not allowed.\n",
              "  inputElement.disabled = true;\n",
              "\n",
              "  if (!files) {\n",
              "    return {\n",
              "      response: {\n",
              "        action: 'complete',\n",
              "      }\n",
              "    };\n",
              "  }\n",
              "\n",
              "  for (const file of files) {\n",
              "    const li = document.createElement('li');\n",
              "    li.append(span(file.name, {fontWeight: 'bold'}));\n",
              "    li.append(span(\n",
              "        `(${file.type || 'n/a'}) - ${file.size} bytes, ` +\n",
              "        `last modified: ${\n",
              "            file.lastModifiedDate ? file.lastModifiedDate.toLocaleDateString() :\n",
              "                                    'n/a'} - `));\n",
              "    const percent = span('0% done');\n",
              "    li.appendChild(percent);\n",
              "\n",
              "    outputElement.appendChild(li);\n",
              "\n",
              "    const fileDataPromise = new Promise((resolve) => {\n",
              "      const reader = new FileReader();\n",
              "      reader.onload = (e) => {\n",
              "        resolve(e.target.result);\n",
              "      };\n",
              "      reader.readAsArrayBuffer(file);\n",
              "    });\n",
              "    // Wait for the data to be ready.\n",
              "    let fileData = yield {\n",
              "      promise: fileDataPromise,\n",
              "      response: {\n",
              "        action: 'continue',\n",
              "      }\n",
              "    };\n",
              "\n",
              "    // Use a chunked sending to avoid message size limits. See b/62115660.\n",
              "    let position = 0;\n",
              "    do {\n",
              "      const length = Math.min(fileData.byteLength - position, MAX_PAYLOAD_SIZE);\n",
              "      const chunk = new Uint8Array(fileData, position, length);\n",
              "      position += length;\n",
              "\n",
              "      const base64 = btoa(String.fromCharCode.apply(null, chunk));\n",
              "      yield {\n",
              "        response: {\n",
              "          action: 'append',\n",
              "          file: file.name,\n",
              "          data: base64,\n",
              "        },\n",
              "      };\n",
              "\n",
              "      let percentDone = fileData.byteLength === 0 ?\n",
              "          100 :\n",
              "          Math.round((position / fileData.byteLength) * 100);\n",
              "      percent.textContent = `${percentDone}% done`;\n",
              "\n",
              "    } while (position < fileData.byteLength);\n",
              "  }\n",
              "\n",
              "  // All done.\n",
              "  yield {\n",
              "    response: {\n",
              "      action: 'complete',\n",
              "    }\n",
              "  };\n",
              "}\n",
              "\n",
              "scope.google = scope.google || {};\n",
              "scope.google.colab = scope.google.colab || {};\n",
              "scope.google.colab._files = {\n",
              "  _uploadFiles,\n",
              "  _uploadFilesContinue,\n",
              "};\n",
              "})(self);\n",
              "</script> "
            ]
          },
          "metadata": {}
        },
        {
          "output_type": "stream",
          "name": "stdout",
          "text": [
            "Saving your file.csv to your file (1).csv\n"
          ]
        }
      ]
    },
    {
      "cell_type": "code",
      "source": [
        "#8 Write a Python program to load a dataset from a CSV file, apply Logistic Regression\n",
        "import pandas as pd\n",
        "from sklearn.linear_model import LogisticRegression\n",
        "from sklearn.model_selection import train_test_split\n",
        "from sklearn.metrics import accuracy_score\n",
        "\n",
        "# Load dataset\n",
        "url = \"https://raw.githubusercontent.com/jbrownlee/Datasets/master/pima-indians-diabetes.data.csv\"\n",
        "columns = ['Pregnancies', 'Glucose', 'BloodPressure', 'SkinThickness', 'Insulin',\n",
        "           'BMI', 'DiabetesPedigreeFunction', 'Age', 'Outcome']\n",
        "df = pd.read_csv(url, header=None, names=columns)\n",
        "\n",
        "# Prepare features and target\n",
        "X = df.drop('Outcome', axis=1)\n",
        "y = df['Outcome']\n",
        "\n",
        "# Split data\n",
        "X_train, X_test, y_train, y_test = train_test_split(X, y, test_size=0.3, random_state=42)\n",
        "\n",
        "# Train model\n",
        "model = LogisticRegression(max_iter=200)\n",
        "model.fit(X_train, y_train)\n",
        "\n",
        "# Predict and print accuracy\n",
        "y_pred = model.predict(X_test)\n",
        "print(\"Accuracy:\", accuracy_score(y_test, y_pred))\n"
      ],
      "metadata": {
        "colab": {
          "base_uri": "https://localhost:8080/"
        },
        "id": "mAwuVLj3gcF3",
        "outputId": "3a3a3d47-7148-42ac-af06-c5c612060e8f"
      },
      "execution_count": null,
      "outputs": [
        {
          "output_type": "stream",
          "name": "stdout",
          "text": [
            "Accuracy: 0.7359307359307359\n"
          ]
        }
      ]
    },
    {
      "cell_type": "code",
      "source": [
        "#9Write a Python program to apply RandomizedSearchCV for tuning hyperparameters (C, penalty, solver) in Logistic Regression. Print the best parameters and accuracyM\n",
        "from sklearn.model_selection import RandomizedSearchCV\n",
        "import numpy as np\n",
        "\n",
        "param_dist = {\n",
        "    'C': np.logspace(-4, 4, 20),\n",
        "    'penalty': ['l1', 'l2'],\n",
        "    'solver': ['liblinear', 'saga']\n",
        "}\n",
        "\n",
        "random_search = RandomizedSearchCV(LogisticRegression(max_iter=200),\n",
        "                                   param_distributions=param_dist,\n",
        "                                   n_iter=10,\n",
        "                                   cv=5,\n",
        "                                   scoring='accuracy',\n",
        "                                   random_state=42)\n",
        "\n",
        "random_search.fit(X_train, y_train)\n",
        "\n",
        "print(\"Best Parameters:\", random_search.best_params_)\n",
        "print(\"Best Accuracy (CV):\", random_search.best_score_)\n"
      ],
      "metadata": {
        "colab": {
          "base_uri": "https://localhost:8080/"
        },
        "id": "jjxPeJ_ighpZ",
        "outputId": "347d6d86-b46a-4261-ce4c-c5fa6ec17fe3"
      },
      "execution_count": null,
      "outputs": [
        {
          "output_type": "stream",
          "name": "stderr",
          "text": [
            "/usr/local/lib/python3.11/dist-packages/sklearn/linear_model/_sag.py:348: ConvergenceWarning: The max_iter was reached which means the coef_ did not converge\n",
            "  warnings.warn(\n",
            "/usr/local/lib/python3.11/dist-packages/sklearn/linear_model/_sag.py:348: ConvergenceWarning: The max_iter was reached which means the coef_ did not converge\n",
            "  warnings.warn(\n",
            "/usr/local/lib/python3.11/dist-packages/sklearn/linear_model/_sag.py:348: ConvergenceWarning: The max_iter was reached which means the coef_ did not converge\n",
            "  warnings.warn(\n",
            "/usr/local/lib/python3.11/dist-packages/sklearn/linear_model/_sag.py:348: ConvergenceWarning: The max_iter was reached which means the coef_ did not converge\n",
            "  warnings.warn(\n",
            "/usr/local/lib/python3.11/dist-packages/sklearn/linear_model/_sag.py:348: ConvergenceWarning: The max_iter was reached which means the coef_ did not converge\n",
            "  warnings.warn(\n"
          ]
        },
        {
          "output_type": "stream",
          "name": "stdout",
          "text": [
            "Best Parameters: {'solver': 'liblinear', 'penalty': 'l2', 'C': np.float64(1438.44988828766)}\n",
            "Best Accuracy (CV): 0.7745759778470058\n"
          ]
        }
      ]
    },
    {
      "cell_type": "code",
      "source": [
        "#10 Write a Python program to implement One-vs-One (OvO) Multiclass Logistic Regression and print accuracyM\n",
        "from sklearn.multiclass import OneVsOneClassifier\n",
        "\n",
        "ovo_model = OneVsOneClassifier(LogisticRegression(max_iter=200))\n",
        "ovo_model.fit(X_train, y_train)\n",
        "print(\"OvO Accuracy:\", ovo_model.score(X_test, y_test))\n"
      ],
      "metadata": {
        "colab": {
          "base_uri": "https://localhost:8080/"
        },
        "id": "fvN0o2-ogrug",
        "outputId": "f6918aa6-2ec0-4f8f-c7af-0fc240b91dd2"
      },
      "execution_count": null,
      "outputs": [
        {
          "output_type": "stream",
          "name": "stdout",
          "text": [
            "OvO Accuracy: 0.7359307359307359\n"
          ]
        }
      ]
    },
    {
      "cell_type": "code",
      "source": [
        "#11Write a Python program to train a Logistic Regression model and visualize the confusion matrix for binary classificationM\n",
        "from sklearn.metrics import confusion_matrix, ConfusionMatrixDisplay\n",
        "import matplotlib.pyplot as plt\n",
        "\n",
        "model = LogisticRegression(max_iter=200)\n",
        "model.fit(X_train, y_train)\n",
        "y_pred = model.predict(X_test)\n",
        "\n",
        "cm = confusion_matrix(y_test, y_pred)\n",
        "ConfusionMatrixDisplay(cm).plot()\n",
        "plt.title(\"Confusion Matrix\")\n",
        "plt.show()\n"
      ],
      "metadata": {
        "colab": {
          "base_uri": "https://localhost:8080/",
          "height": 472
        },
        "id": "6at6KKZvgvkR",
        "outputId": "35c44259-5b69-4ac8-cc61-e9fb3dddc8a1"
      },
      "execution_count": null,
      "outputs": [
        {
          "output_type": "display_data",
          "data": {
            "text/plain": [
              "<Figure size 640x480 with 2 Axes>"
            ],
            "image/png": "[encoded data removed]"
          },
          "metadata": {}
        }
      ]
    },
    {
      "cell_type": "code",
      "source": [
        "#12 Write a Python program to train a Logistic Regression model and evaluate its performance using Precision, Recall, and F1-ScoreM\n",
        "from sklearn.metrics import classification_report\n",
        "\n",
        "print(classification_report(y_test, y_pred))\n"
      ],
      "metadata": {
        "colab": {
          "base_uri": "https://localhost:8080/"
        },
        "id": "6ij2IJgTgy8Z",
        "outputId": "fc565a6a-7a2f-4078-c367-4d463d4bdc5b"
      },
      "execution_count": null,
      "outputs": [
        {
          "output_type": "stream",
          "name": "stdout",
          "text": [
            "              precision    recall  f1-score   support\n",
            "\n",
            "           0       0.80      0.79      0.80       151\n",
            "           1       0.62      0.62      0.62        80\n",
            "\n",
            "    accuracy                           0.74       231\n",
            "   macro avg       0.71      0.71      0.71       231\n",
            "weighted avg       0.74      0.74      0.74       231\n",
            "\n"
          ]
        }
      ]
    },
    {
      "cell_type": "code",
      "source": [
        "#13 Write a Python program to train a Logistic Regression model on imbalanced data and apply class weights to improve model performanceM\n",
        "model = LogisticRegression(class_weight='balanced', max_iter=200)\n",
        "model.fit(X_train, y_train)\n",
        "print(\"Accuracy on Imbalanced Data:\", model.score(X_test, y_test))\n"
      ],
      "metadata": {
        "colab": {
          "base_uri": "https://localhost:8080/"
        },
        "id": "Rz7JtPK9g2X5",
        "outputId": "2ace65a7-c487-48be-df6a-8101f27acf0f"
      },
      "execution_count": null,
      "outputs": [
        {
          "output_type": "stream",
          "name": "stdout",
          "text": [
            "Accuracy on Imbalanced Data: 0.7012987012987013\n"
          ]
        }
      ]
    },
    {
      "cell_type": "code",
      "source": [
        "#14 Write a Python program to train Logistic Regression on the Titanic dataset, handle missing values, and evaluate performanceM\n",
        "import seaborn as sns\n",
        "df = sns.load_dataset('titanic').dropna(subset=['age', 'fare', 'sex', 'survived'])\n",
        "\n",
        "X = pd.get_dummies(df[['age', 'fare', 'sex']], drop_first=True)\n",
        "y = df['survived']\n",
        "\n",
        "X_train, X_test, y_train, y_test = train_test_split(X, y, test_size=0.3)\n",
        "\n",
        "model = LogisticRegression(max_iter=200)\n",
        "model.fit(X_train, y_train)\n",
        "print(\"Titanic Dataset Accuracy:\", model.score(X_test, y_test))\n"
      ],
      "metadata": {
        "colab": {
          "base_uri": "https://localhost:8080/"
        },
        "id": "0zc8kncrg5YK",
        "outputId": "c0b94409-23a7-4c0a-ca0f-f7ebb8feba18"
      },
      "execution_count": null,
      "outputs": [
        {
          "output_type": "stream",
          "name": "stdout",
          "text": [
            "Titanic Dataset Accuracy: 0.7255813953488373\n"
          ]
        }
      ]
    },
    {
      "cell_type": "code",
      "source": [
        "#15 Write a Python program to apply feature scaling (Standardization) before training a Logistic Regression model. Evaluate its accuracy and compare results with and without scalingM\n",
        "from sklearn.preprocessing import StandardScaler\n",
        "\n",
        "scaler = StandardScaler()\n",
        "X_scaled = scaler.fit_transform(X)\n",
        "\n",
        "X_train_s, X_test_s, y_train_s, y_test_s = train_test_split(X_scaled, y, test_size=0.3)\n",
        "model_scaled = LogisticRegression(max_iter=200)\n",
        "model_scaled.fit(X_train_s, y_train_s)\n",
        "\n",
        "print(\"Accuracy without scaling:\", model.score(X_test, y_test))\n",
        "print(\"Accuracy with scaling:\", model_scaled.score(X_test_s, y_test_s))\n"
      ],
      "metadata": {
        "colab": {
          "base_uri": "https://localhost:8080/"
        },
        "id": "xVYgD7AOg9Dz",
        "outputId": "da55a769-6db4-479d-ffcb-7bcbf0a48b47"
      },
      "execution_count": null,
      "outputs": [
        {
          "output_type": "stream",
          "name": "stdout",
          "text": [
            "Accuracy without scaling: 0.7255813953488373\n",
            "Accuracy with scaling: 0.786046511627907\n"
          ]
        }
      ]
    },
    {
      "cell_type": "code",
      "source": [
        "#16 Write a Python program to train Logistic Regression and evaluate its performance using ROC-AUC scoreM\n",
        "from sklearn.metrics import roc_auc_score\n",
        "from sklearn.preprocessing import label_binarize\n",
        "\n",
        "# Binarize for binary classification\n",
        "y_bin = label_binarize(y, classes=[0, 1]).ravel()\n",
        "\n",
        "model = LogisticRegression(max_iter=200)\n",
        "model.fit(X_train, y_train)\n",
        "y_prob = model.predict_proba(X_test)[:, 1]\n",
        "\n",
        "print(\"ROC-AUC Score:\", roc_auc_score(y_test, y_prob))\n"
      ],
      "metadata": {
        "colab": {
          "base_uri": "https://localhost:8080/"
        },
        "id": "z9fXCUehg_li",
        "outputId": "2bfc1b92-276a-4ef3-f4dc-8caf53915c97"
      },
      "execution_count": null,
      "outputs": [
        {
          "output_type": "stream",
          "name": "stdout",
          "text": [
            "ROC-AUC Score: 0.7564250265863168\n"
          ]
        }
      ]
    },
    {
      "cell_type": "code",
      "source": [
        "#17 Write a Python program to train Logistic Regression using a custom learning rate (C=0.5) and evaluate accuracyM\n",
        "model = LogisticRegression(C=0.5, max_iter=200)\n",
        "model.fit(X_train, y_train)\n",
        "print(\"Accuracy with C=0.5:\", model.score(X_test, y_test))\n"
      ],
      "metadata": {
        "colab": {
          "base_uri": "https://localhost:8080/"
        },
        "id": "7PmCcsOmhDCj",
        "outputId": "27d7fa15-8f71-4675-9d73-e4ce3da90350"
      },
      "execution_count": null,
      "outputs": [
        {
          "output_type": "stream",
          "name": "stdout",
          "text": [
            "Accuracy with C=0.5: 0.7255813953488373\n"
          ]
        }
      ]
    },
    {
      "cell_type": "code",
      "source": [
        "#18 Write a Python program to train Logistic Regression and identify important features based on model coefficientsM\n",
        "import numpy as np\n",
        "\n",
        "model = LogisticRegression(max_iter=200)\n",
        "model.fit(X_train, y_train)\n",
        "importance = np.abs(model.coef_).flatten()\n",
        "\n",
        "for i, coef in enumerate(importance):\n",
        "    print(f\"Feature {i}: Importance {coef}\")\n"
      ],
      "metadata": {
        "colab": {
          "base_uri": "https://localhost:8080/"
        },
        "id": "btwFDRbphGLD",
        "outputId": "f1152f58-02ec-4751-a19b-05b9ffd71354"
      },
      "execution_count": null,
      "outputs": [
        {
          "output_type": "stream",
          "name": "stdout",
          "text": [
            "Feature 0: Importance 0.016023139823521604\n",
            "Feature 1: Importance 0.017238721580328617\n",
            "Feature 2: Importance 2.4175473671334524\n"
          ]
        }
      ]
    },
    {
      "cell_type": "code",
      "source": [
        "#19 Write a Python program to train Logistic Regression and evaluate its performance using Cohen’s Kappa ScoreM\n",
        "from sklearn.metrics import cohen_kappa_score\n",
        "\n",
        "y_pred = model.predict(X_test)\n",
        "print(\"Cohen's Kappa Score:\", cohen_kappa_score(y_test, y_pred))\n"
      ],
      "metadata": {
        "colab": {
          "base_uri": "https://localhost:8080/"
        },
        "id": "09J42u-FhKKt",
        "outputId": "086b604b-3b84-4272-8b8b-dbadfb7c1f48"
      },
      "execution_count": null,
      "outputs": [
        {
          "output_type": "stream",
          "name": "stdout",
          "text": [
            "Cohen's Kappa Score: 0.43210816134664465\n"
          ]
        }
      ]
    },
    {
      "cell_type": "code",
      "source": [
        "#20 Write a Python program to train Logistic Regression and visualize the Precision-Recall Curve for binary classificatio:\n",
        "from sklearn.metrics import precision_recall_curve, PrecisionRecallDisplay\n",
        "\n",
        "y_prob = model.predict_proba(X_test)[:, 1]\n",
        "precision, recall, _ = precision_recall_curve(y_test, y_prob)\n",
        "\n",
        "disp = PrecisionRecallDisplay(precision=precision, recall=recall)\n",
        "disp.plot()\n",
        "plt.title(\"Precision-Recall Curve\")\n",
        "plt.show()\n"
      ],
      "metadata": {
        "colab": {
          "base_uri": "https://localhost:8080/",
          "height": 472
        },
        "id": "VgvLZQGrhM8D",
        "outputId": "871809c8-cb4f-4a6d-c072-050ea0a54059"
      },
      "execution_count": null,
      "outputs": [
        {
          "output_type": "display_data",
          "data": {
            "text/plain": [
              "<Figure size 640x480 with 1 Axes>"
            ],
            "image/png": "[encoded data removed]"
          },
          "metadata": {}
        }
      ]
    },
    {
      "cell_type": "code",
      "source": [
        "#21 Write a Python program to train Logistic Regression with different solvers (liblinear, saga, lbfgs) and compare their accuracyM\n",
        "solvers = ['liblinear', 'saga', 'lbfgs']\n",
        "for solver in solvers:\n",
        "    model = LogisticRegression(solver=solver, max_iter=200)\n",
        "    model.fit(X_train, y_train)\n",
        "    print(f\"Solver: {solver}, Accuracy: {model.score(X_test, y_test)}\")\n"
      ],
      "metadata": {
        "colab": {
          "base_uri": "https://localhost:8080/"
        },
        "id": "ukgpUXE5hPZr",
        "outputId": "0d718a4d-61d7-4913-c46a-2a00fd857a55"
      },
      "execution_count": null,
      "outputs": [
        {
          "output_type": "stream",
          "name": "stdout",
          "text": [
            "Solver: liblinear, Accuracy: 0.7255813953488373\n",
            "Solver: saga, Accuracy: 0.6325581395348837\n",
            "Solver: lbfgs, Accuracy: 0.7255813953488373\n"
          ]
        },
        {
          "output_type": "stream",
          "name": "stderr",
          "text": [
            "/usr/local/lib/python3.11/dist-packages/sklearn/linear_model/_sag.py:348: ConvergenceWarning: The max_iter was reached which means the coef_ did not converge\n",
            "  warnings.warn(\n"
          ]
        }
      ]
    },
    {
      "cell_type": "code",
      "source": [
        "#22 Write a Python program to train Logistic Regression and evaluate its performance using Matthews Correlation Coefficient (MCC)M\n",
        "from sklearn.metrics import matthews_corrcoef\n",
        "\n",
        "y_pred = model.predict(X_test)\n",
        "print(\"Matthews Correlation Coefficient:\", matthews_corrcoef(y_test, y_pred))\n"
      ],
      "metadata": {
        "colab": {
          "base_uri": "https://localhost:8080/"
        },
        "id": "ZUzq2VxWhR-c",
        "outputId": "6644c8a8-58c8-4644-fade-af73bb79551f"
      },
      "execution_count": null,
      "outputs": [
        {
          "output_type": "stream",
          "name": "stdout",
          "text": [
            "Matthews Correlation Coefficient: 0.433092325476817\n"
          ]
        }
      ]
    },
    {
      "cell_type": "code",
      "source": [
        "#23 Write a Python program to train Logistic Regression on both raw and standardized data. Compare their accuracy to see the impact of feature scalingM\n",
        "model_raw = LogisticRegression(max_iter=200)\n",
        "model_raw.fit(X_train, y_train)\n",
        "\n",
        "model_scaled = LogisticRegression(max_iter=200)\n",
        "model_scaled.fit(X_train_s, y_train_s)\n",
        "\n",
        "print(\"Raw Data Accuracy:\", model_raw.score(X_test, y_test))\n",
        "print(\"Standardized Data Accuracy:\", model_scaled.score(X_test_s, y_test_s))\n"
      ],
      "metadata": {
        "colab": {
          "base_uri": "https://localhost:8080/"
        },
        "id": "Yn-a7n6DhUko",
        "outputId": "ee178b91-362c-43dd-e533-9842ea483017"
      },
      "execution_count": null,
      "outputs": [
        {
          "output_type": "stream",
          "name": "stdout",
          "text": [
            "Raw Data Accuracy: 0.7255813953488373\n",
            "Standardized Data Accuracy: 0.786046511627907\n"
          ]
        }
      ]
    },
    {
      "cell_type": "code",
      "source": [
        "#24 Write a Python program to train Logistic Regression and find the optimal C (regularization strength) using cross-validationM\n",
        "from sklearn.model_selection import cross_val_score\n",
        "\n",
        "C_values = [0.01, 0.1, 1, 10]\n",
        "for c in C_values:\n",
        "    model = LogisticRegression(C=c, max_iter=200)\n",
        "    scores = cross_val_score(model, X, y, cv=5)\n",
        "    print(f\"C={c}, Mean Accuracy: {scores.mean()}\")\n"
      ],
      "metadata": {
        "colab": {
          "base_uri": "https://localhost:8080/"
        },
        "id": "gQVTagnNhYTc",
        "outputId": "6a363dec-bb0e-4180-9028-d4e6495bb22e"
      },
      "execution_count": null,
      "outputs": [
        {
          "output_type": "stream",
          "name": "stdout",
          "text": [
            "C=0.01, Mean Accuracy: 0.6933320200925834\n",
            "C=0.1, Mean Accuracy: 0.7731606421747267\n",
            "C=1, Mean Accuracy: 0.7745493942677042\n",
            "C=10, Mean Accuracy: 0.7745493942677042\n"
          ]
        }
      ]
    },
    {
      "cell_type": "code",
      "source": [
        "#25 Write a Python program to train Logistic Regression, save the trained model using joblib, and load it again to make prediction\n",
        "import joblib\n",
        "\n",
        "model = LogisticRegression(max_iter=200)\n",
        "model.fit(X_train, y_train)\n",
        "joblib.dump(model, 'logreg_model.pkl')\n",
        "\n",
        "loaded_model = joblib.load('logreg_model.pkl')\n",
        "print(\"Loaded Model Accuracy:\", loaded_model.score(X_test, y_test))\n"
      ],
      "metadata": {
        "colab": {
          "base_uri": "https://localhost:8080/"
        },
        "id": "pn2JbNGBha7s",
        "outputId": "6dc14737-c8bd-4fe2-c891-495346591caa"
      },
      "execution_count": null,
      "outputs": [
        {
          "output_type": "stream",
          "name": "stdout",
          "text": [
            "Loaded Model Accuracy: 0.7255813953488373\n"
          ]
        }
      ]
    }
  ]
}