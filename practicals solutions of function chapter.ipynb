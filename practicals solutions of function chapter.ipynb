{
  "nbformat": 4,
  "nbformat_minor": 0,
  "metadata": {
    "colab": {
      "provenance": [],
      "authorship_tag": "ABX9TyMhW6TxPloxJa6KuQByZiXq",
      "include_colab_link": true
    },
    "kernelspec": {
      "name": "python3",
      "display_name": "Python 3"
    },
    "language_info": {
      "name": "python"
    }
  },
  "cells": [
    {
      "cell_type": "markdown",
      "metadata": {
        "id": "view-in-github",
        "colab_type": "text"
      },
      "source": [
        "<a href=\"https://colab.research.google.com/github/iam-rushi47/pw-study/blob/pw-study/practicals%20solutions%20of%20function%20chapter.ipynb\" target=\"_parent\"><img src=\"https://colab.research.google.com/assets/colab-badge.svg\" alt=\"Open In Colab\"/></a>"
      ]
    },
    {
      "cell_type": "markdown",
      "source": [],
      "metadata": {
        "id": "jBsyJadHA3rg"
      }
    },
    {
      "cell_type": "markdown",
      "source": [
        "1. Write a Python function that takes a list of numbers as input and returns the sum of all even numbers in\n",
        "the list.\n",
        "\n"
      ],
      "metadata": {
        "id": "zVOp_WUAA7Q3"
      }
    },
    {
      "cell_type": "code",
      "source": [
        "def sum_of_even_numbers(numbers):\n",
        "\n",
        "    even_sum = 0\n",
        "    for num in numbers:\n",
        "        if num % 2 == 0:\n",
        "            even_sum += num\n",
        "    return even_sum\n",
        "\n",
        "\n",
        "my_list = [1, 2, 3, 4, 5, 6]\n",
        "print(\"Sum of even numbers:\", sum_of_even_numbers(my_list))\n"
      ],
      "metadata": {
        "colab": {
          "base_uri": "https://localhost:8080/"
        },
        "id": "_QaMDYjNBEXK",
        "outputId": "641191b7-31ac-4347-a10e-6a5a583c6fa1"
      },
      "execution_count": 8,
      "outputs": [
        {
          "output_type": "stream",
          "name": "stdout",
          "text": [
            "Sum of even numbers: 12\n"
          ]
        }
      ]
    },
    {
      "cell_type": "markdown",
      "source": [
        "2. Create a Python function that accepts a string and returns the reverse of that string."
      ],
      "metadata": {
        "id": "ojJCcuCiCpkL"
      }
    },
    {
      "cell_type": "code",
      "source": [
        "def reverse_string(s):\n",
        "    \"\"\"\n",
        "    This function takes a string and returns its reverse.\n",
        "    \"\"\"\n",
        "    return s[::-1]\n",
        "\n",
        "\n",
        "input_string = \"hello\"\n",
        "print(\"Reversed string:\", reverse_string(input_string))\n"
      ],
      "metadata": {
        "colab": {
          "base_uri": "https://localhost:8080/"
        },
        "id": "6vKitdVQDgXm",
        "outputId": "71bcaf77-7284-4d2f-e15b-d888c9bbf8cb"
      },
      "execution_count": 10,
      "outputs": [
        {
          "output_type": "stream",
          "name": "stdout",
          "text": [
            "Reversed string: olleh\n"
          ]
        }
      ]
    },
    {
      "cell_type": "markdown",
      "source": [
        "3. Implement a Python function that takes a list of integers and returns a new list containing the squares of\n",
        "each number"
      ],
      "metadata": {
        "id": "kmF0q46LEkxi"
      }
    },
    {
      "cell_type": "code",
      "source": [
        "def square_numbers(numbers):\n",
        "\n",
        "    squared_list = []\n",
        "    for num in numbers:\n",
        "        squared_list.append(num ** 2)\n",
        "    return squared_list\n",
        "\n",
        "my_list = [1, 2, 3, 4, 5]\n",
        "print(\"List of squares:\", square_numbers(my_list))\n"
      ],
      "metadata": {
        "colab": {
          "base_uri": "https://localhost:8080/"
        },
        "id": "hmklEMmbE1fL",
        "outputId": "42b695a6-8237-4072-8398-06859d43502e"
      },
      "execution_count": 11,
      "outputs": [
        {
          "output_type": "stream",
          "name": "stdout",
          "text": [
            "List of squares: [1, 4, 9, 16, 25]\n"
          ]
        }
      ]
    },
    {
      "cell_type": "markdown",
      "source": [
        "4. Write a Python function that checks if a given number is prime or not from 1 to 200."
      ],
      "metadata": {
        "id": "652q1MWBFBs3"
      }
    },
    {
      "cell_type": "code",
      "source": [
        "def is_prime(n):\n",
        "\n",
        "    if n <= 1:\n",
        "        return False\n",
        "    for i in range(2, int(n**0.5) + 1):\n",
        "        if n % i == 0:\n",
        "            return False\n",
        "    return True\n",
        "\n",
        "def is_prime(n):\n",
        "    \"\"\"\n",
        "    This function checks if the given number (1 to 200) is a prime number.\n",
        "    \"\"\"\n",
        "    if n <= 1:\n",
        "        return False\n",
        "    for i in range(2, int(n**0.5) + 1):\n",
        "        if n % i == 0:\n",
        "            return False\n",
        "    return True\n",
        "\n",
        "# Example usage:\n",
        "for number in range(1, 201):\n",
        "    if is_prime(number):\n",
        "        print(number, \"is a prime number.\")\n",
        "\n",
        "for number in range(1, 201):\n",
        "    if is_prime(number):\n",
        "        print(number, \"is a prime number.\")\n"
      ],
      "metadata": {
        "colab": {
          "base_uri": "https://localhost:8080/"
        },
        "id": "I0hIjWPzFJVM",
        "outputId": "a17d7bba-7b88-4c29-cd97-da3169b0a1e7"
      },
      "execution_count": 12,
      "outputs": [
        {
          "output_type": "stream",
          "name": "stdout",
          "text": [
            "2 is a prime number.\n",
            "3 is a prime number.\n",
            "5 is a prime number.\n",
            "7 is a prime number.\n",
            "11 is a prime number.\n",
            "13 is a prime number.\n",
            "17 is a prime number.\n",
            "19 is a prime number.\n",
            "23 is a prime number.\n",
            "29 is a prime number.\n",
            "31 is a prime number.\n",
            "37 is a prime number.\n",
            "41 is a prime number.\n",
            "43 is a prime number.\n",
            "47 is a prime number.\n",
            "53 is a prime number.\n",
            "59 is a prime number.\n",
            "61 is a prime number.\n",
            "67 is a prime number.\n",
            "71 is a prime number.\n",
            "73 is a prime number.\n",
            "79 is a prime number.\n",
            "83 is a prime number.\n",
            "89 is a prime number.\n",
            "97 is a prime number.\n",
            "101 is a prime number.\n",
            "103 is a prime number.\n",
            "107 is a prime number.\n",
            "109 is a prime number.\n",
            "113 is a prime number.\n",
            "127 is a prime number.\n",
            "131 is a prime number.\n",
            "137 is a prime number.\n",
            "139 is a prime number.\n",
            "149 is a prime number.\n",
            "151 is a prime number.\n",
            "157 is a prime number.\n",
            "163 is a prime number.\n",
            "167 is a prime number.\n",
            "173 is a prime number.\n",
            "179 is a prime number.\n",
            "181 is a prime number.\n",
            "191 is a prime number.\n",
            "193 is a prime number.\n",
            "197 is a prime number.\n",
            "199 is a prime number.\n",
            "2 is a prime number.\n",
            "3 is a prime number.\n",
            "5 is a prime number.\n",
            "7 is a prime number.\n",
            "11 is a prime number.\n",
            "13 is a prime number.\n",
            "17 is a prime number.\n",
            "19 is a prime number.\n",
            "23 is a prime number.\n",
            "29 is a prime number.\n",
            "31 is a prime number.\n",
            "37 is a prime number.\n",
            "41 is a prime number.\n",
            "43 is a prime number.\n",
            "47 is a prime number.\n",
            "53 is a prime number.\n",
            "59 is a prime number.\n",
            "61 is a prime number.\n",
            "67 is a prime number.\n",
            "71 is a prime number.\n",
            "73 is a prime number.\n",
            "79 is a prime number.\n",
            "83 is a prime number.\n",
            "89 is a prime number.\n",
            "97 is a prime number.\n",
            "101 is a prime number.\n",
            "103 is a prime number.\n",
            "107 is a prime number.\n",
            "109 is a prime number.\n",
            "113 is a prime number.\n",
            "127 is a prime number.\n",
            "131 is a prime number.\n",
            "137 is a prime number.\n",
            "139 is a prime number.\n",
            "149 is a prime number.\n",
            "151 is a prime number.\n",
            "157 is a prime number.\n",
            "163 is a prime number.\n",
            "167 is a prime number.\n",
            "173 is a prime number.\n",
            "179 is a prime number.\n",
            "181 is a prime number.\n",
            "191 is a prime number.\n",
            "193 is a prime number.\n",
            "197 is a prime number.\n",
            "199 is a prime number.\n"
          ]
        }
      ]
    },
    {
      "cell_type": "markdown",
      "source": [
        "5. Create an iterator class in Python that generates the Fibonacci sequence up to a specified number of\n",
        "terms"
      ],
      "metadata": {
        "id": "Dl8pzOUlFYBP"
      }
    },
    {
      "cell_type": "code",
      "source": [
        "class FibonacciIterator:\n",
        "    def __init__(self, n_terms):\n",
        "        self.n_terms = n_terms\n",
        "        self.count = 0\n",
        "        self.a, self.b = 0, 1\n",
        "\n",
        "    def __iter__(self):\n",
        "        return self\n",
        "\n",
        "    def __next__(self):\n",
        "        if self.count >= self.n_terms:\n",
        "            raise StopIteration\n",
        "        if self.count == 0:\n",
        "            self.count += 1\n",
        "            return 0\n",
        "        elif self.count == 1:\n",
        "            self.count += 1\n",
        "            return 1\n",
        "        else:\n",
        "            self.a, self.b = self.b, self.a + self.b\n",
        "            self.count += 1\n",
        "            return self.a\n",
        "\n",
        "# Example usage\n",
        "for num in FibonacciIterator(10):\n",
        "    print(num, end=\" \")\n"
      ],
      "metadata": {
        "colab": {
          "base_uri": "https://localhost:8080/"
        },
        "id": "-XaIVgpZHP40",
        "outputId": "979b9bf7-23c7-454d-eb42-2969ed756549"
      },
      "execution_count": 14,
      "outputs": [
        {
          "output_type": "stream",
          "name": "stdout",
          "text": [
            "0 1 1 1 2 3 5 8 13 21 "
          ]
        }
      ]
    },
    {
      "cell_type": "markdown",
      "source": [
        "6. Write a generator function in Python that yields the powers of 2 up to a given exponent."
      ],
      "metadata": {
        "id": "Y1fZdddbGnH1"
      }
    },
    {
      "cell_type": "code",
      "source": [
        "def powers_of_two(max_exponent):\n",
        "    for exp in range(max_exponent + 1):\n",
        "        yield 2 ** exp\n",
        "\n",
        "# Example usage:\n",
        "for val in powers_of_two(5):\n",
        "    print(val)\n"
      ],
      "metadata": {
        "colab": {
          "base_uri": "https://localhost:8080/"
        },
        "id": "nY8jrwFFHeIU",
        "outputId": "dab868f1-6bcf-4fe0-f003-3514ba8d09a3"
      },
      "execution_count": 15,
      "outputs": [
        {
          "output_type": "stream",
          "name": "stdout",
          "text": [
            "1\n",
            "2\n",
            "4\n",
            "8\n",
            "16\n",
            "32\n"
          ]
        }
      ]
    },
    {
      "cell_type": "markdown",
      "source": [
        "7. Implement a generator function that reads a file line by line and yields each line as a string."
      ],
      "metadata": {
        "id": "9fy5rs2dG51x"
      }
    },
    {
      "cell_type": "code",
      "source": [
        "def read_file_line_by_line(file_path):\n",
        "    with open(file_path, 'r') as file:\n",
        "        for line in file:\n",
        "            yield line.strip()\n",
        "\n",
        "# Example usage:\n",
        " for line in read_file_line_by_line('example.txt'):\n",
        "   print(line)\n"
      ],
      "metadata": {
        "id": "-25oaYKkHhuU"
      },
      "execution_count": 22,
      "outputs": []
    },
    {
      "cell_type": "markdown",
      "source": [
        "8. Use a lambda function in Python to sort a list of tuples based on the second element of each tuple."
      ],
      "metadata": {
        "id": "rOL9g-jsHAY9"
      }
    },
    {
      "cell_type": "code",
      "source": [
        "my_tuples = [(1, 3), (2, 1), (5, 2), (4, 0)]\n",
        "sorted_tuples = sorted(my_tuples, key=lambda x: x[1])\n",
        "\n",
        "print(\"Sorted list based on second element:\", sorted_tuples)\n"
      ],
      "metadata": {
        "colab": {
          "base_uri": "https://localhost:8080/"
        },
        "id": "LhllSluHH79p",
        "outputId": "64e5baa9-d3b6-482e-91cc-1d7da572f299"
      },
      "execution_count": 19,
      "outputs": [
        {
          "output_type": "stream",
          "name": "stdout",
          "text": [
            "Sorted list based on second element: [(4, 0), (2, 1), (5, 2), (1, 3)]\n"
          ]
        }
      ]
    },
    {
      "cell_type": "markdown",
      "source": [
        "9. Write a Python program that uses map() to convert a list of temperatures from Celsius to Fahrenheit."
      ],
      "metadata": {
        "id": "TLU5pmdCHF5V"
      }
    },
    {
      "cell_type": "code",
      "source": [
        "def celsius_to_fahrenheit(celsius):\n",
        "    return (celsius * 9/5) + 32\n",
        "\n",
        "celsius_list = [0, 20, 30, 100]\n",
        "fahrenheit_list = list(map(celsius_to_fahrenheit, celsius_list))\n",
        "\n",
        "print(\"Temperatures in Fahrenheit:\", fahrenheit_list)\n"
      ],
      "metadata": {
        "colab": {
          "base_uri": "https://localhost:8080/"
        },
        "id": "8qVe6QgSH_Wp",
        "outputId": "0dd35b7c-b0d0-45d4-dd72-4fbf1ee82a75"
      },
      "execution_count": 20,
      "outputs": [
        {
          "output_type": "stream",
          "name": "stdout",
          "text": [
            "Temperatures in Fahrenheit: [32.0, 68.0, 86.0, 212.0]\n"
          ]
        }
      ]
    },
    {
      "cell_type": "markdown",
      "source": [
        "10. Create a Python program that uses filter() to remove all the vowels from a given string."
      ],
      "metadata": {
        "id": "5eUJiRQQHH7y"
      }
    },
    {
      "cell_type": "code",
      "source": [
        "def remove_vowels(s):\n",
        "    vowels = 'aeiouAEIOU'\n",
        "    return ''.join(filter(lambda x: x not in vowels, s))\n",
        "\n",
        "input_string = \"Hello World\"\n",
        "result = remove_vowels(input_string)\n",
        "print(\"String without vowels:\", result)\n"
      ],
      "metadata": {
        "colab": {
          "base_uri": "https://localhost:8080/"
        },
        "id": "jox-XZ8xIPoy",
        "outputId": "a440363c-f548-4472-fef2-3f8d626ca18f"
      },
      "execution_count": 21,
      "outputs": [
        {
          "output_type": "stream",
          "name": "stdout",
          "text": [
            "String without vowels: Hll Wrld\n"
          ]
        }
      ]
    },
    {
      "cell_type": "markdown",
      "source": [
        "11) Imagine an accounting routine used in a book shop. It works on a list with sublists, which look like this:\n",
        "data given\n",
        "\n",
        "\n",
        "\n",
        "\n",
        "\n",
        "Write a Python program, which returns a list with 2-tuples. Each tuple consists of the order number and the\n",
        "product of the price per item and the quantity. The product should be increased by 10,- € if the value of the\n",
        "order is smaller than 100,00 €.\n",
        "\n",
        "Write a Python program using lambda and map"
      ],
      "metadata": {
        "id": "JKukGZiCM3e7"
      }
    },
    {
      "cell_type": "code",
      "source": [
        "# List based on your image\n",
        "orders = [\n",
        "    [34587, \"Learning Python, Mark Lutz\", 4, 40.95],\n",
        "    [98762, \"Programming Python, Mark Lutz\", 5, 56.80],\n",
        "    [77226, \"Head First Python, Paul Barry\", 3, 32.95],\n",
        "    [88112, \"Einführung in Python3, Bernd Klein\", 3, 24.99]\n",
        "]\n",
        "\n",
        "# Using map and lambda\n",
        "final_orders = list(map(lambda order: (order[0], order[2] * order[3] if order[2] * order[3] >= 100 else order[2] * order[3] + 10), orders))\n",
        "\n",
        "# Display result\n",
        "print(final_orders)\n"
      ],
      "metadata": {
        "colab": {
          "base_uri": "https://localhost:8080/"
        },
        "id": "XDogRkH6NWX0",
        "outputId": "9edf438d-8654-49c1-a47c-1bff7e3dd03b"
      },
      "execution_count": 23,
      "outputs": [
        {
          "output_type": "stream",
          "name": "stdout",
          "text": [
            "[(34587, 163.8), (98762, 284.0), (77226, 108.85000000000001), (88112, 84.97)]\n"
          ]
        }
      ]
    }
  ]
}