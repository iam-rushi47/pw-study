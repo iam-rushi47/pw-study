{
  "nbformat": 4,
  "nbformat_minor": 0,
  "metadata": {
    "colab": {
      "provenance": []
    },
    "kernelspec": {
      "name": "python3",
      "display_name": "Python 3"
    },
    "language_info": {
      "name": "python"
    }
  },
  "cells": [
    {
      "cell_type": "code",
      "execution_count": null,
      "metadata": {
        "colab": {
          "base_uri": "https://localhost:8080/"
        },
        "id": "TK1INMV5AtTc",
        "outputId": "12330a02-f8da-415f-cb39-30e5c8315c5b"
      },
      "outputs": [
        {
          "output_type": "stream",
          "name": "stdout",
          "text": [
            "Original Array:\n",
            "[[71 61 34]\n",
            " [37 85 44]\n",
            " [44 55 58]]\n",
            "\n",
            "Transposed Array:\n",
            "[[71 37 44]\n",
            " [61 85 55]\n",
            " [34 44 58]]\n"
          ]
        }
      ],
      "source": [
        "#1. Create a 3x3 NumPy array with random integers between 1 and 100. Then, interchange its rows and columns.\n",
        "import numpy as np\n",
        "\n",
        "# Create a 3x3 array with random integers between 1 and 100\n",
        "arr = np.random.randint(1, 101, size=(3, 3))\n",
        "print(\"Original Array:\")\n",
        "print(arr)\n",
        "\n",
        "# Interchange rows and columns (transpose)\n",
        "transposed_arr = arr.T\n",
        "print(\"\\nTransposed Array:\")\n",
        "print(transposed_arr)\n"
      ]
    },
    {
      "cell_type": "code",
      "source": [
        "'''2. Generate a 1D NumPy array with 10 elements. Reshape it into a 2x5 array, then into a 5x2 array.'''\n",
        "import numpy as np\n",
        "\n",
        "# Step 1: Generate a 1D NumPy array with 10 elements\n",
        "array_1d = np.arange(10)\n",
        "print(\"1D Array:\\n\", array_1d)\n",
        "\n",
        "# Step 2: Reshape into a 2x5 array\n",
        "array_2x5 = array_1d.reshape(2, 5)\n",
        "print(\"\\n2x5 Array:\\n\", array_2x5)\n",
        "\n",
        "# Step 3: Reshape into a 5x2 array\n",
        "array_5x2 = array_1d.reshape(5, 2)\n",
        "print(\"\\n5x2 Array:\\n\", array_5x2)\n",
        "\n",
        "\n",
        "\n",
        "\n",
        "\n",
        "\n",
        "\n",
        "\n",
        "\n",
        "\n",
        "\n",
        "\n",
        "\n"
      ],
      "metadata": {
        "id": "4lvDAcaRBL4d",
        "colab": {
          "base_uri": "https://localhost:8080/"
        },
        "outputId": "0b30e670-4b5e-46fd-c590-978f99fabcc6"
      },
      "execution_count": 3,
      "outputs": [
        {
          "output_type": "stream",
          "name": "stdout",
          "text": [
            "1D Array:\n",
            " [0 1 2 3 4 5 6 7 8 9]\n",
            "\n",
            "2x5 Array:\n",
            " [[0 1 2 3 4]\n",
            " [5 6 7 8 9]]\n",
            "\n",
            "5x2 Array:\n",
            " [[0 1]\n",
            " [2 3]\n",
            " [4 5]\n",
            " [6 7]\n",
            " [8 9]]\n"
          ]
        }
      ]
    },
    {
      "cell_type": "code",
      "source": [
        "#3. Create a 4x4 NumPy array with random float values. Add a border of zeros around it, resulting in a 6x6 array.\n",
        "import numpy as np\n",
        "\n",
        "# Step 1: Create a 4x4 array with random float values\n",
        "array_4x4 = np.random.rand(4, 4)\n",
        "print(\"Original 4x4 Array:\\n\", array_4x4)\n",
        "\n",
        "# Step 2: Add a border of zeros to make it a 6x6 array\n",
        "array_6x6 = np.pad(array_4x4, pad_width=1, mode='constant', constant_values=0)\n",
        "print(\"\\n6x6 Array with Border of Zeros:\\n\", array_6x6)\n",
        "\n",
        "\n"
      ],
      "metadata": {
        "id": "Q74739m5BdO6",
        "colab": {
          "base_uri": "https://localhost:8080/"
        },
        "outputId": "177e6d70-1265-471b-aaef-4b3e3fc2bad7"
      },
      "execution_count": 4,
      "outputs": [
        {
          "output_type": "stream",
          "name": "stdout",
          "text": [
            "Original 4x4 Array:\n",
            " [[0.47046413 0.19247824 0.8602711  0.47511148]\n",
            " [0.19456389 0.49157651 0.1296904  0.96944263]\n",
            " [0.64050404 0.11660709 0.96472833 0.85347589]\n",
            " [0.21237455 0.9611521  0.58299886 0.91628569]]\n",
            "\n",
            "6x6 Array with Border of Zeros:\n",
            " [[0.         0.         0.         0.         0.         0.        ]\n",
            " [0.         0.47046413 0.19247824 0.8602711  0.47511148 0.        ]\n",
            " [0.         0.19456389 0.49157651 0.1296904  0.96944263 0.        ]\n",
            " [0.         0.64050404 0.11660709 0.96472833 0.85347589 0.        ]\n",
            " [0.         0.21237455 0.9611521  0.58299886 0.91628569 0.        ]\n",
            " [0.         0.         0.         0.         0.         0.        ]]\n"
          ]
        }
      ]
    },
    {
      "cell_type": "code",
      "source": [
        "#4. Using NumPy, create an array of integers from 10 to 60 with a step of 5.\n",
        "import numpy as np\n",
        "\n",
        "# Create the array\n",
        "array = np.arange(10, 61, 5)\n",
        "print(\"Array from 10 to 60 with step of 5:\\n\", array)\n"
      ],
      "metadata": {
        "colab": {
          "base_uri": "https://localhost:8080/"
        },
        "id": "sLmfDJUoZLRX",
        "outputId": "4185f611-84be-49c6-a95b-ff0a5697cf27"
      },
      "execution_count": 6,
      "outputs": [
        {
          "output_type": "stream",
          "name": "stdout",
          "text": [
            "Array from 10 to 60 with step of 5:\n",
            " [10 15 20 25 30 35 40 45 50 55 60]\n"
          ]
        }
      ]
    },
    {
      "cell_type": "code",
      "source": [
        "#5. Create a NumPy array of strings ['python', 'numpy', 'pandas']. Apply different case transformations (uppercase, lowercase, title case, etc.) to each element.\n",
        "\n",
        "\n",
        "\n",
        "#import numpy as np\n",
        "\n",
        "# Step 1: Create the array of strings\n",
        "string_array = np.array(['python', 'numpy', 'pandas'])\n",
        "\n",
        "# Step 2: Apply different case transformations\n",
        "uppercase_array = np.char.upper(string_array)\n",
        "lowercase_array = np.char.lower(string_array)\n",
        "titlecase_array = np.char.title(string_array)\n",
        "capitalize_array = np.char.capitalize(string_array)\n",
        "\n",
        "# Display results\n",
        "print(\"Original Array:     \", string_array)\n",
        "print(\"Uppercase:          \", uppercase_array)\n",
        "print(\"Lowercase:          \", lowercase_array)\n",
        "print(\"Title Case:         \", titlecase_array)\n",
        "print(\"Capitalized:        \", capitalize_array)\n"
      ],
      "metadata": {
        "colab": {
          "base_uri": "https://localhost:8080/"
        },
        "id": "p-Mz0vD1ZUiE",
        "outputId": "c722689f-3978-4111-ab1d-9143b78a3b05"
      },
      "execution_count": 11,
      "outputs": [
        {
          "output_type": "stream",
          "name": "stdout",
          "text": [
            "Original Array:      ['python' 'numpy' 'pandas']\n",
            "Uppercase:           ['PYTHON' 'NUMPY' 'PANDAS']\n",
            "Lowercase:           ['python' 'numpy' 'pandas']\n",
            "Title Case:          ['Python' 'Numpy' 'Pandas']\n",
            "Capitalized:         ['Python' 'Numpy' 'Pandas']\n"
          ]
        }
      ]
    },
    {
      "cell_type": "code",
      "source": [
        "#6. Generate a NumPy array of words. Insert a space between each character of every word in the array.\n",
        "import numpy as np\n",
        "\n",
        "# Step 1: Create the array of words\n",
        "words_array = np.array(['python', 'numpy', 'pandas'])\n",
        "\n",
        "# Step 2: Insert a space between each character\n",
        "spaced_words = np.char.join(' ', words_array)\n",
        "\n",
        "# Display the result\n",
        "print(\"Original Array: \", words_array)\n",
        "print(\"Spaced Words:   \", spaced_words)\n"
      ],
      "metadata": {
        "colab": {
          "base_uri": "https://localhost:8080/"
        },
        "id": "mFKyaXdlZWMH",
        "outputId": "dab2bf9c-e6e3-4c36-a337-a273c2ab7ab2"
      },
      "execution_count": 12,
      "outputs": [
        {
          "output_type": "stream",
          "name": "stdout",
          "text": [
            "Original Array:  ['python' 'numpy' 'pandas']\n",
            "Spaced Words:    ['p y t h o n' 'n u m p y' 'p a n d a s']\n"
          ]
        }
      ]
    },
    {
      "cell_type": "code",
      "source": [
        "#7. Create two 2D NumPy arrays and perform element-wise addition, subtraction, multiplication, and division.\n",
        "import numpy as np\n",
        "\n",
        "# Step 1: Create two 2D arrays\n",
        "array1 = np.array([[1, 2], [3, 4]])\n",
        "array2 = np.array([[5, 6], [7, 8]])\n",
        "\n",
        "# Step 2: Perform element-wise operations\n",
        "addition = np.add(array1, array2)\n",
        "subtraction = np.subtract(array1, array2)\n",
        "multiplication = np.multiply(array1, array2)\n",
        "division = np.divide(array1, array2)\n",
        "\n",
        "# Display the results\n",
        "print(\"Array 1:\\n\", array1)\n",
        "print(\"Array 2:\\n\", array2)\n",
        "print(\"\\nAddition:\\n\", addition)\n",
        "print(\"Subtraction:\\n\", subtraction)\n",
        "print(\"Multiplication:\\n\", multiplication)\n",
        "print(\"Division:\\n\", division)\n"
      ],
      "metadata": {
        "colab": {
          "base_uri": "https://localhost:8080/"
        },
        "id": "sGbqtqSIZWeQ",
        "outputId": "4ad63a17-ea2f-4400-de0c-c8bc8e076bf9"
      },
      "execution_count": 10,
      "outputs": [
        {
          "output_type": "stream",
          "name": "stdout",
          "text": [
            "Array 1:\n",
            " [[1 2]\n",
            " [3 4]]\n",
            "Array 2:\n",
            " [[5 6]\n",
            " [7 8]]\n",
            "\n",
            "Addition:\n",
            " [[ 6  8]\n",
            " [10 12]]\n",
            "Subtraction:\n",
            " [[-4 -4]\n",
            " [-4 -4]]\n",
            "Multiplication:\n",
            " [[ 5 12]\n",
            " [21 32]]\n",
            "Division:\n",
            " [[0.2        0.33333333]\n",
            " [0.42857143 0.5       ]]\n"
          ]
        }
      ]
    },
    {
      "cell_type": "code",
      "source": [
        "#8. Use NumPy to create a 5x5 identity matrix, then extract its diagonal elements\n",
        "import numpy as np\n",
        "\n",
        "# Step 1: Create a 5x5 identity matrix\n",
        "identity_matrix = np.eye(5)\n",
        "print(\"5x5 Identity Matrix:\\n\", identity_matrix)\n",
        "\n",
        "# Step 2: Extract the diagonal elements\n",
        "diagonal_elements = np.diag(identity_matrix)\n",
        "print(\"\\nDiagonal Elements:\", diagonal_elements)\n"
      ],
      "metadata": {
        "colab": {
          "base_uri": "https://localhost:8080/"
        },
        "id": "sMKDXhxTZWuo",
        "outputId": "95896750-7da9-4c35-f341-7f0722c8b047"
      },
      "execution_count": 9,
      "outputs": [
        {
          "output_type": "stream",
          "name": "stdout",
          "text": [
            "5x5 Identity Matrix:\n",
            " [[1. 0. 0. 0. 0.]\n",
            " [0. 1. 0. 0. 0.]\n",
            " [0. 0. 1. 0. 0.]\n",
            " [0. 0. 0. 1. 0.]\n",
            " [0. 0. 0. 0. 1.]]\n",
            "\n",
            "Diagonal Elements: [1. 1. 1. 1. 1.]\n"
          ]
        }
      ]
    },
    {
      "cell_type": "code",
      "source": [
        "#9. Generate a NumPy array of 100 random integers between 0 and 1000. Find and display all prime numbers in this array.\n",
        "import numpy as np\n",
        "\n",
        "# Step 1: Generate 100 random integers between 0 and 1000\n",
        "random_integers = np.random.randint(0, 1001, size=100)\n",
        "\n",
        "# Step 2: Function to check for prime numbers\n",
        "def is_prime(n):\n",
        "    if n < 2:\n",
        "        return False\n",
        "    for i in range(2, int(np.sqrt(n)) + 1):\n",
        "        if n % i == 0:\n",
        "            return False\n",
        "    return True\n",
        "\n",
        "# Step 3: Vectorize the function for NumPy\n",
        "is_prime_vec = np.vectorize(is_prime)\n",
        "\n",
        "# Step 4: Filter prime numbers\n",
        "prime_numbers = random_integers[is_prime_vec(random_integers)]\n",
        "\n",
        "# Display the results\n",
        "print(\"Random Integers:\\n\", random_integers)\n",
        "print(\"\\nPrime Numbers:\\n\", prime_numbers)\n",
        "\n"
      ],
      "metadata": {
        "colab": {
          "base_uri": "https://localhost:8080/"
        },
        "id": "J2od-iYRZXDh",
        "outputId": "98ee6afa-b014-4fab-8893-01d2a10fb306"
      },
      "execution_count": 8,
      "outputs": [
        {
          "output_type": "stream",
          "name": "stdout",
          "text": [
            "Random Integers:\n",
            " [522 528 630 491 383 813 579 626 819 668 555 759 138  36 868  28 407 762\n",
            " 432 176 394 975 767  69 278 222 385 350 693 636 345 154 957 254 541 194\n",
            " 661 468 558 143 298 259 929 293 222 893 877 933 594 271 232 433  66 110\n",
            " 106 784 345 412 860 455 337 533 105 697 808 530 307 555 307 969 938 499\n",
            " 491 649 435 702 784 721 216 751 349 470 460 889 802 633 117  23 254 686\n",
            " 110 832 779 431 916  55 735 279 281 904]\n",
            "\n",
            "Prime Numbers:\n",
            " [491 383 541 661 929 293 877 271 433 337 307 307 499 491 751 349  23 431\n",
            " 281]\n"
          ]
        }
      ]
    },
    {
      "cell_type": "code",
      "source": [
        "#10. Create a NumPy array representing daily temperatures for a month. Calculate and display the weekly averag\n",
        "import numpy as np\n",
        "\n",
        "# Step 1: Generate random daily temperatures for 30 days (in °C)\n",
        "daily_temps = np.random.uniform(low=15.0, high=40.0, size=30).round(1)\n",
        "print(\"Daily Temperatures:\\n\", daily_temps)\n",
        "\n",
        "# Step 2: Reshape into 4 full weeks + 2 extra days (assume weeks of 7 days)\n",
        "weeks = daily_temps[:28].reshape(4, 7)  # First 4 full weeks\n",
        "\n",
        "# Step 3: Calculate weekly averages\n",
        "weekly_avg = weeks.mean(axis=1)\n",
        "print(\"\\nWeekly Average Temperatures:\\n\", weekly_avg)\n",
        "\n",
        "# Optionally handle remaining days\n",
        "if len(daily_temps) > 28:\n",
        "    extra_days_avg = daily_temps[28:].mean()\n",
        "    print(\"\\nAverage of Remaining Days (Day 29-30):\", round(extra_days_avg, 1))\n"
      ],
      "metadata": {
        "colab": {
          "base_uri": "https://localhost:8080/"
        },
        "id": "nK5GXvtOZXQp",
        "outputId": "c5832776-b557-44be-b999-1985c2c4db9c"
      },
      "execution_count": 7,
      "outputs": [
        {
          "output_type": "stream",
          "name": "stdout",
          "text": [
            "Daily Temperatures:\n",
            " [34.8 30.2 20.2 27.9 21.6 21.3 19.3 23.  26.7 40.  39.2 33.2 35.3 20.8\n",
            " 22.7 21.7 29.  31.4 27.9 23.6 33.1 19.6 32.3 30.3 30.8 25.1 19.8 25.6\n",
            " 17.7 33. ]\n",
            "\n",
            "Weekly Average Temperatures:\n",
            " [25.04285714 31.17142857 27.05714286 26.21428571]\n",
            "\n",
            "Average of Remaining Days (Day 29-30): 25.4\n"
          ]
        }
      ]
    }
  ]
}